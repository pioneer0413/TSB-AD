{
 "cells": [
  {
   "cell_type": "code",
   "execution_count": 110,
   "id": "2fcf077c",
   "metadata": {},
   "outputs": [],
   "source": [
    "import os\n",
    "import pandas as pd\n",
    "import numpy as np"
   ]
  },
  {
   "cell_type": "code",
   "execution_count": 111,
   "id": "04f12c4c",
   "metadata": {},
   "outputs": [],
   "source": [
    "src_dir_path = '/home/hwkang/dev-TSB-AD/TSB-AD/eval/metrics/multi'\n",
    "baseline_file_path = '/home/hwkang/dev-TSB-AD/TSB-AD/eval/metrics/multi/CNN_038_baseline.csv'"
   ]
  },
  {
   "cell_type": "code",
   "execution_count": 112,
   "id": "8dc14d11",
   "metadata": {},
   "outputs": [],
   "source": [
    "keywords_to_exclude = ['002', '003', '004', '030', 'pgd', 'fgsm', 'CNN_baseline']"
   ]
  },
  {
   "cell_type": "code",
   "execution_count": 113,
   "id": "933969e5",
   "metadata": {},
   "outputs": [],
   "source": [
    "file_names = os.listdir(src_dir_path)\n",
    "# Exclude files that contain any of the keywords in the list\n",
    "file_names = [f for f in file_names if not any(keyword in f for keyword in keywords_to_exclude)]\n",
    "# Sort the file names\n",
    "file_names.sort()"
   ]
  },
  {
   "cell_type": "code",
   "execution_count": 114,
   "id": "5207b287",
   "metadata": {},
   "outputs": [],
   "source": [
    "is_mini = True"
   ]
  },
  {
   "cell_type": "code",
   "execution_count": null,
   "id": "3899ea1c",
   "metadata": {},
   "outputs": [],
   "source": [
    "if is_mini:\n",
    "    timeseries_to_include = [\n",
    "        '014_MSL_id_13_Sensor_tr_1525_1st_4575.csv',\n",
    "        '017_MSL_id_16_Sensor_tr_512_1st_1850.csv',\n",
    "        '025_MITDB_id_7_Medical_tr_37500_1st_88864.csv',\n",
    "        '065_SMD_id_9_Facility_tr_737_1st_837.csv',\n",
    "        '074_SMD_id_18_Facility_tr_7174_1st_21230.csv',\n",
    "        '079_LTDB_id_1_Medical_tr_3618_1st_3718.csv',\n",
    "        '087_SVDB_id_4_Medical_tr_5421_1st_5521.csv',\n",
    "        '092_SVDB_id_9_Medical_tr_2674_1st_2774.csv',\n",
    "        '093_SVDB_id_10_Medical_tr_500_1st_37.csv',\n",
    "        '097_SVDB_id_14_Medical_tr_1031_1st_1131.csv',\n",
    "        '099_SVDB_id_16_Medical_tr_1115_1st_1215.csv',\n",
    "        '101_SVDB_id_18_Medical_tr_1851_1st_1951.csv',\n",
    "        '105_SVDB_id_22_Medical_tr_500_1st_417.csv',\n",
    "        '108_SVDB_id_25_Medical_tr_1238_1st_1338.csv',\n",
    "        '111_SVDB_id_28_Medical_tr_1791_1st_1891.csv',\n",
    "        '133_OPPORTUNITY_id_5_HumanActivity_tr_1745_1st_6500.csv',\n",
    "        '158_SMAP_id_15_Sensor_tr_2075_1st_5610.csv',\n",
    "        '159_SMAP_id_16_Sensor_tr_1757_1st_2650.csv',\n",
    "        '162_SMAP_id_19_Sensor_tr_1908_1st_4690.csv',\n",
    "        '166_SMAP_id_23_Sensor_tr_1113_1st_1890.csv',\n",
    "        '167_SMAP_id_24_Sensor_tr_2094_1st_5600.csv',\n",
    "        '168_SMAP_id_25_Sensor_tr_1998_1st_2098.csv',\n",
    "        '172_SWaT_id_2_Sensor_tr_23700_1st_23800.csv',\n",
    "    ]\n",
    "else:\n",
    "    timeseries_file_path = '/home/hwkang/dev-TSB-AD/TSB-AD/Datasets/File_List/TSB-AD-M-Eva.csv'\n",
    "    timeseries_df = pd.read_csv(timeseries_file_path)\n",
    "    # Extract the first columns values and convert them to a list\n",
    "    timeseries_to_include = timeseries_df.iloc[:, 0].tolist()"
   ]
  },
  {
   "cell_type": "code",
   "execution_count": 116,
   "id": "9fb4e0e3",
   "metadata": {},
   "outputs": [],
   "source": [
    "baseline_vus_pr = pd.read_csv(baseline_file_path)\n",
    "baseline_vus_pr = baseline_vus_pr[baseline_vus_pr['file'].isin(timeseries_to_include)]\n",
    "baseline_vus_pr = baseline_vus_pr['VUS-PR'].values"
   ]
  },
  {
   "cell_type": "code",
   "execution_count": 117,
   "id": "e3980d23",
   "metadata": {},
   "outputs": [],
   "source": [
    "vus_pr_scores = [] # [(file_name, array(0.3, 0.4, 0.5, ...)), ...]\n",
    "for file_name in file_names:\n",
    "    file_path = os.path.join(src_dir_path, file_name)\n",
    "    # Read the CSV file\n",
    "    df = pd.read_csv(file_path)\n",
    "    # Extract the 'VUS-PR' column which includes the element of timeseries_to_include in the first column\n",
    "\n",
    "    # Filter the DataFrame to include only the rows where the first column matches any of the timeseries_to_include\n",
    "    filtered_df = df[df.iloc[:, 0].isin(timeseries_to_include)]\n",
    "    \n",
    "    # extract the column which names is 'VUS-PR'\n",
    "    vus_pr = filtered_df['VUS-PR'].values\n",
    "    # Append the VUS-PR values to the list with the file name\n",
    "    vus_pr_scores.append((file_name, vus_pr)) "
   ]
  },
  {
   "cell_type": "code",
   "execution_count": 118,
   "id": "83dddf6f",
   "metadata": {},
   "outputs": [],
   "source": [
    "ranking = {}\n",
    "for file_name, vus_pr_score in vus_pr_scores:\n",
    "    surpass_counter = 0\n",
    "\n",
    "    for baseline, vus_pr, timeseries in zip(baseline_vus_pr, vus_pr_score, timeseries_to_include):\n",
    "        if baseline < vus_pr:\n",
    "            surpass_counter += 1\n",
    "            ranking[file_name] = ranking.get(file_name, 0) + 1"
   ]
  },
  {
   "cell_type": "code",
   "execution_count": 119,
   "id": "29eee7c2",
   "metadata": {},
   "outputs": [
    {
     "name": "stdout",
     "output_type": "stream",
     "text": [
      "Top-20 files which have the most surpassing timeseries [Mini]:\n",
      "PCA_077_baseline_legacy.csv: 18 timeseries\n",
      "KMeansAD_090_baseline.csv: 12 timeseries\n",
      "IForest_075_baseline_legacy.csv: 9 timeseries\n",
      "SpikeCNN_053_repeat_g_e_dgx1.csv: 9 timeseries\n",
      "SpikeCNN_079_conv_scof_all_adv_base.csv: 9 timeseries\n",
      "SpikeCNN_099_conv_scof_all.csv: 9 timeseries\n",
      "SpikeCNN_096_conv_scof_all.csv: 8 timeseries\n",
      "SpikeCNN_082_conv_scalar.csv: 7 timeseries\n",
      "SpikeCNN_097_conv_scalar_ternaryF_learnT.csv: 7 timeseries\n",
      "SpikeCNN_101_conv_scalar_ternaryF_learnT.csv: 7 timeseries\n",
      "SpikeCNN_103_conv_bntt_only.csv: 7 timeseries\n",
      "SpikeCNN_037_conv_neuron_random_legacy.csv: 6 timeseries\n",
      "SpikeCNN_048_conv_g_l_legacy.csv: 6 timeseries\n",
      "SpikeCNN_085_conv_nlt_eg_legacy.csv: 6 timeseries\n",
      "SpikeCNN_016_repeat_channel_he_dgx1.csv: 5 timeseries\n",
      "SpikeCNN_017_conv_scof_adv_base.csv: 5 timeseries\n",
      "SpikeCNN_034_conv_nlt_ternary.csv: 5 timeseries\n",
      "SpikeCNN_044_repeat_g_l_dgx1.csv: 5 timeseries\n",
      "SpikeCNN_047_conv_e_l_legacy.csv: 5 timeseries\n",
      "SpikeCNN_052_conv_channel_all1s.csv: 5 timeseries\n"
     ]
    }
   ],
   "source": [
    "# Print Top-5 files which have the most surpassing timeseries\n",
    "sorted_ranking = sorted(ranking.items(), key=lambda x: x[1], reverse=True)\n",
    "if is_mini:\n",
    "    print(\"Top-20 files which have the most surpassing timeseries [Mini]:\")\n",
    "else:\n",
    "    print(\"Top-20 files which have the most surpassing timeseries [Full]:\")\n",
    "\n",
    "file_list = []\n",
    "for file_name, count in sorted_ranking[:20]:\n",
    "    print(f\"{file_name}: {count} timeseries\")\n",
    "    file_path = os.path.join(src_dir_path, file_name)\n",
    "    file_list.append(file_path)"
   ]
  },
  {
   "cell_type": "code",
   "execution_count": 120,
   "id": "8e045de5",
   "metadata": {},
   "outputs": [
    {
     "name": "stdout",
     "output_type": "stream",
     "text": [
      "'/home/hwkang/dev-TSB-AD/TSB-AD/eval/metrics/multi/PCA_077_baseline_legacy.csv',\n",
      "'/home/hwkang/dev-TSB-AD/TSB-AD/eval/metrics/multi/KMeansAD_090_baseline.csv',\n",
      "'/home/hwkang/dev-TSB-AD/TSB-AD/eval/metrics/multi/IForest_075_baseline_legacy.csv',\n",
      "'/home/hwkang/dev-TSB-AD/TSB-AD/eval/metrics/multi/SpikeCNN_053_repeat_g_e_dgx1.csv',\n",
      "'/home/hwkang/dev-TSB-AD/TSB-AD/eval/metrics/multi/SpikeCNN_079_conv_scof_all_adv_base.csv',\n",
      "'/home/hwkang/dev-TSB-AD/TSB-AD/eval/metrics/multi/SpikeCNN_099_conv_scof_all.csv',\n",
      "'/home/hwkang/dev-TSB-AD/TSB-AD/eval/metrics/multi/SpikeCNN_096_conv_scof_all.csv',\n",
      "'/home/hwkang/dev-TSB-AD/TSB-AD/eval/metrics/multi/SpikeCNN_082_conv_scalar.csv',\n",
      "'/home/hwkang/dev-TSB-AD/TSB-AD/eval/metrics/multi/SpikeCNN_097_conv_scalar_ternaryF_learnT.csv',\n",
      "'/home/hwkang/dev-TSB-AD/TSB-AD/eval/metrics/multi/SpikeCNN_101_conv_scalar_ternaryF_learnT.csv',\n",
      "'/home/hwkang/dev-TSB-AD/TSB-AD/eval/metrics/multi/SpikeCNN_103_conv_bntt_only.csv',\n",
      "'/home/hwkang/dev-TSB-AD/TSB-AD/eval/metrics/multi/SpikeCNN_037_conv_neuron_random_legacy.csv',\n",
      "'/home/hwkang/dev-TSB-AD/TSB-AD/eval/metrics/multi/SpikeCNN_048_conv_g_l_legacy.csv',\n",
      "'/home/hwkang/dev-TSB-AD/TSB-AD/eval/metrics/multi/SpikeCNN_085_conv_nlt_eg_legacy.csv',\n",
      "'/home/hwkang/dev-TSB-AD/TSB-AD/eval/metrics/multi/SpikeCNN_016_repeat_channel_he_dgx1.csv',\n",
      "'/home/hwkang/dev-TSB-AD/TSB-AD/eval/metrics/multi/SpikeCNN_017_conv_scof_adv_base.csv',\n",
      "'/home/hwkang/dev-TSB-AD/TSB-AD/eval/metrics/multi/SpikeCNN_034_conv_nlt_ternary.csv',\n",
      "'/home/hwkang/dev-TSB-AD/TSB-AD/eval/metrics/multi/SpikeCNN_044_repeat_g_l_dgx1.csv',\n",
      "'/home/hwkang/dev-TSB-AD/TSB-AD/eval/metrics/multi/SpikeCNN_047_conv_e_l_legacy.csv',\n",
      "'/home/hwkang/dev-TSB-AD/TSB-AD/eval/metrics/multi/SpikeCNN_052_conv_channel_all1s.csv',\n"
     ]
    }
   ],
   "source": [
    "for file_path in file_list:\n",
    "    print(f\"'{file_path}',\")"
   ]
  }
 ],
 "metadata": {
  "kernelspec": {
   "display_name": "Python 3 (ipykernel)",
   "language": "python",
   "name": "python3"
  },
  "language_info": {
   "codemirror_mode": {
    "name": "ipython",
    "version": 3
   },
   "file_extension": ".py",
   "mimetype": "text/x-python",
   "name": "python",
   "nbconvert_exporter": "python",
   "pygments_lexer": "ipython3",
   "version": "3.11.11"
  }
 },
 "nbformat": 4,
 "nbformat_minor": 5
}
