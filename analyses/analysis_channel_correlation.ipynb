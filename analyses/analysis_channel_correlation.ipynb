{
 "cells": [
  {
   "cell_type": "code",
   "execution_count": 13,
   "id": "6d19f5ac",
   "metadata": {},
   "outputs": [],
   "source": [
    "import os\n",
    "import pandas as pd"
   ]
  },
  {
   "cell_type": "code",
   "execution_count": 14,
   "id": "3071d436",
   "metadata": {},
   "outputs": [],
   "source": [
    "src_dir_path = '/home/hwkang/dev-TSB-AD/TSB-AD/Datasets/TSB-AD-M'"
   ]
  },
  {
   "cell_type": "code",
   "execution_count": 15,
   "id": "f2f8209d",
   "metadata": {},
   "outputs": [],
   "source": [
    "file_names = os.listdir(src_dir_path)\n",
    "\n",
    "target_keyword = 'GHL'\n",
    "\n",
    "# Filter files that contain the target keyword\n",
    "filtered_files = [file for file in file_names if target_keyword in file]"
   ]
  },
  {
   "cell_type": "code",
   "execution_count": 16,
   "id": "6133535e",
   "metadata": {},
   "outputs": [
    {
     "name": "stdout",
     "output_type": "stream",
     "text": [
      "Files containing 'GHL': ['042_GHL_id_11_Sensor_tr_50000_1st_150001.csv', '048_GHL_id_17_Sensor_tr_50000_1st_154001.csv', '049_GHL_id_18_Sensor_tr_50000_1st_109001.csv', '056_GHL_id_25_Sensor_tr_50000_1st_105568.csv', '034_GHL_id_3_Sensor_tr_50000_1st_122001.csv', '036_GHL_id_5_Sensor_tr_50000_1st_67147.csv', '043_GHL_id_12_Sensor_tr_39938_1st_40038.csv', '037_GHL_id_6_Sensor_tr_50000_1st_80001.csv', '051_GHL_id_20_Sensor_tr_50000_1st_75110.csv', '033_GHL_id_2_Sensor_tr_50000_1st_51001.csv', '044_GHL_id_13_Sensor_tr_50000_1st_145001.csv', '035_GHL_id_4_Sensor_tr_50000_1st_90001.csv', '046_GHL_id_15_Sensor_tr_50000_1st_156462.csv', '052_GHL_id_21_Sensor_tr_50000_1st_98001.csv', '047_GHL_id_16_Sensor_tr_50000_1st_77001.csv', '053_GHL_id_22_Sensor_tr_50000_1st_126448.csv', '039_GHL_id_8_Sensor_tr_50000_1st_63030.csv', '038_GHL_id_7_Sensor_tr_50000_1st_100001.csv', '055_GHL_id_24_Sensor_tr_50000_1st_118124.csv', '054_GHL_id_23_Sensor_tr_50000_1st_135001.csv', '045_GHL_id_14_Sensor_tr_50000_1st_85076.csv', '040_GHL_id_9_Sensor_tr_50000_1st_92001.csv', '041_GHL_id_10_Sensor_tr_50000_1st_57001.csv', '050_GHL_id_19_Sensor_tr_43750_1st_55001.csv', '032_GHL_id_1_Sensor_tr_50000_1st_65001.csv']\n"
     ]
    }
   ],
   "source": [
    "print(f\"Files containing '{target_keyword}': {filtered_files}\")"
   ]
  },
  {
   "cell_type": "code",
   "execution_count": 17,
   "id": "6b2d4d09",
   "metadata": {},
   "outputs": [],
   "source": [
    "dummy_str = '032, 033, 035, 037, 038, 039, 041, 043, 044, 045, 047, 048, 051, 052, 053, 054, 055, 056'\n",
    "classA = dummy_str.split(', ')\n",
    "classB = ['034', '036']\n",
    "classC = ['042', '046', '050']"
   ]
  },
  {
   "cell_type": "code",
   "execution_count": 18,
   "id": "a0a8b54f",
   "metadata": {},
   "outputs": [
    {
     "name": "stdout",
     "output_type": "stream",
     "text": [
      "['032', '033', '035', '037', '038', '039', '041', '043', '044', '045', '047', '048', '051', '052', '053', '054', '055', '056']\n"
     ]
    }
   ],
   "source": [
    "print(classA)"
   ]
  },
  {
   "cell_type": "code",
   "execution_count": 19,
   "id": "7079acc4",
   "metadata": {},
   "outputs": [],
   "source": [
    "classA_file_names = [f for f in filtered_files if f[:3] in classA]\n",
    "classB_file_names = [f for f in filtered_files if f[:3] in classB]\n",
    "classC_file_names = [f for f in filtered_files if f[:3] in classC]\n",
    "\n",
    "classA_file_names.sort()"
   ]
  },
  {
   "cell_type": "code",
   "execution_count": 20,
   "id": "b4b97ad5",
   "metadata": {},
   "outputs": [
    {
     "name": "stdout",
     "output_type": "stream",
     "text": [
      "['032_GHL_id_1_Sensor_tr_50000_1st_65001.csv', '033_GHL_id_2_Sensor_tr_50000_1st_51001.csv', '035_GHL_id_4_Sensor_tr_50000_1st_90001.csv', '037_GHL_id_6_Sensor_tr_50000_1st_80001.csv', '038_GHL_id_7_Sensor_tr_50000_1st_100001.csv', '039_GHL_id_8_Sensor_tr_50000_1st_63030.csv', '041_GHL_id_10_Sensor_tr_50000_1st_57001.csv', '043_GHL_id_12_Sensor_tr_39938_1st_40038.csv', '044_GHL_id_13_Sensor_tr_50000_1st_145001.csv', '045_GHL_id_14_Sensor_tr_50000_1st_85076.csv', '047_GHL_id_16_Sensor_tr_50000_1st_77001.csv', '048_GHL_id_17_Sensor_tr_50000_1st_154001.csv', '051_GHL_id_20_Sensor_tr_50000_1st_75110.csv', '052_GHL_id_21_Sensor_tr_50000_1st_98001.csv', '053_GHL_id_22_Sensor_tr_50000_1st_126448.csv', '054_GHL_id_23_Sensor_tr_50000_1st_135001.csv', '055_GHL_id_24_Sensor_tr_50000_1st_118124.csv', '056_GHL_id_25_Sensor_tr_50000_1st_105568.csv']\n",
      "['034_GHL_id_3_Sensor_tr_50000_1st_122001.csv', '036_GHL_id_5_Sensor_tr_50000_1st_67147.csv']\n",
      "['042_GHL_id_11_Sensor_tr_50000_1st_150001.csv', '046_GHL_id_15_Sensor_tr_50000_1st_156462.csv', '050_GHL_id_19_Sensor_tr_43750_1st_55001.csv']\n"
     ]
    }
   ],
   "source": [
    "print(classA_file_names)\n",
    "print(classB_file_names)\n",
    "print(classC_file_names)"
   ]
  },
  {
   "cell_type": "code",
   "execution_count": 21,
   "id": "adee0b5c",
   "metadata": {},
   "outputs": [],
   "source": [
    "classA_file_paths = [os.path.join(src_dir_path, f) for f in classA_file_names]\n",
    "classB_file_paths = [os.path.join(src_dir_path, f) for f in classB_file_names]\n",
    "classC_file_paths = [os.path.join(src_dir_path, f) for f in classC_file_names]"
   ]
  },
  {
   "cell_type": "code",
   "execution_count": null,
   "id": "cc65077a",
   "metadata": {},
   "outputs": [
    {
     "name": "stdout",
     "output_type": "stream",
     "text": [
      "Class A header: RT_level_ini,RT_temperature.T,C_temperature.T,RT_level,out_valve_act,dT_rand,inv_valve_act,limiter.y,inj_valve_act,Relaxing.active,boundary.m_flow_in,dir_valve_act,dt_rand,C_level,HT_temperature.T,heater_act,HT_level,limiter1.y,dL_rand,Label\n",
      "Class B header: RT_level_ini,RT_temperature.T,HT_temperature.T,RT_level,out_valve_act,dT_rand,inv_valve_act,limiter.y,inj_valve_act,Relaxing.active,boundary.m_flow_in,dir_valve_act,dt_rand,C_level,C_temperature.T,heater_act,HT_level,limiter1.y,dL_rand,Label\n",
      "Class C header: RT_level_ini,RT_temperature.T,HT_temperature.T,RT_level,out_valve_act,dT_rand,inv_valve_act,limiter.y,inj_valve_act,Relaxing.active,boundary.m_flow_in,dir_valve_act,dt_rand,C_level,C_temperature.T,heater_act,HT_level,limiter1.y,dL_rand,Label\n"
     ]
    }
   ],
   "source": [
    "# extract only header from the first file in each class\n",
    "def extract_header(file_path):\n",
    "    with open(file_path, 'r') as file:\n",
    "        header = file.readline().strip()\n",
    "    return header\n"
   ]
  },
  {
   "cell_type": "code",
   "execution_count": 28,
   "id": "4006a6c2",
   "metadata": {},
   "outputs": [
    {
     "name": "stdout",
     "output_type": "stream",
     "text": [
      "032_GHL: RT_level_ini,RT_temperature.T,C_temperature.T,RT_level,out_valve_act,dT_rand,inv_valve_act,limiter.y,inj_valve_act,Relaxing.active,boundary.m_flow_in,dir_valve_act,dt_rand,C_level,HT_temperature.T,heater_act,HT_level,limiter1.y,dL_rand,Label\n",
      "033_GHL: RT_level_ini,RT_temperature.T,C_temperature.T,RT_level,out_valve_act,dT_rand,inv_valve_act,limiter.y,inj_valve_act,Relaxing.active,boundary.m_flow_in,dir_valve_act,dt_rand,C_level,HT_temperature.T,heater_act,HT_level,limiter1.y,dL_rand,Label\n",
      "035_GHL: RT_level_ini,RT_temperature.T,C_temperature.T,RT_level,out_valve_act,dT_rand,inv_valve_act,limiter.y,inj_valve_act,Relaxing.active,boundary.m_flow_in,dir_valve_act,dt_rand,C_level,HT_temperature.T,heater_act,HT_level,limiter1.y,dL_rand,Label\n",
      "037_GHL: RT_level_ini,RT_temperature.T,C_temperature.T,RT_level,out_valve_act,dT_rand,inv_valve_act,limiter.y,inj_valve_act,Relaxing.active,boundary.m_flow_in,dir_valve_act,dt_rand,C_level,HT_temperature.T,heater_act,HT_level,limiter1.y,dL_rand,Label\n",
      "038_GHL: RT_level_ini,RT_temperature.T,HT_temperature.T,RT_level,out_valve_act,dT_rand,inv_valve_act,limiter.y,inj_valve_act,Relaxing.active,boundary.m_flow_in,dir_valve_act,dt_rand,C_level,C_temperature.T,heater_act,HT_level,limiter1.y,dL_rand,Label\n",
      "039_GHL: RT_level_ini,RT_temperature.T,C_temperature.T,RT_level,out_valve_act,dT_rand,inv_valve_act,limiter.y,inj_valve_act,Relaxing.active,boundary.m_flow_in,dir_valve_act,dt_rand,C_level,HT_temperature.T,heater_act,HT_level,limiter1.y,dL_rand,Label\n",
      "041_GHL: RT_level_ini,RT_temperature.T,C_temperature.T,RT_level,out_valve_act,dT_rand,inv_valve_act,limiter.y,inj_valve_act,Relaxing.active,boundary.m_flow_in,dir_valve_act,dt_rand,C_level,HT_temperature.T,heater_act,HT_level,limiter1.y,dL_rand,Label\n",
      "043_GHL: RT_level_ini,RT_temperature.T,C_temperature.T,RT_level,out_valve_act,dT_rand,inv_valve_act,limiter.y,inj_valve_act,Relaxing.active,boundary.m_flow_in,dir_valve_act,dt_rand,C_level,HT_temperature.T,heater_act,HT_level,limiter1.y,dL_rand,Label\n",
      "044_GHL: RT_level_ini,RT_temperature.T,HT_temperature.T,RT_level,out_valve_act,dT_rand,inv_valve_act,limiter.y,inj_valve_act,Relaxing.active,boundary.m_flow_in,dir_valve_act,dt_rand,C_level,C_temperature.T,heater_act,HT_level,limiter1.y,dL_rand,Label\n",
      "045_GHL: RT_level_ini,RT_temperature.T,C_temperature.T,RT_level,out_valve_act,dT_rand,inv_valve_act,limiter.y,inj_valve_act,Relaxing.active,boundary.m_flow_in,dir_valve_act,dt_rand,C_level,HT_temperature.T,heater_act,HT_level,limiter1.y,dL_rand,Label\n",
      "047_GHL: RT_level_ini,RT_temperature.T,C_temperature.T,RT_level,out_valve_act,dT_rand,inv_valve_act,limiter.y,inj_valve_act,Relaxing.active,boundary.m_flow_in,dir_valve_act,dt_rand,C_level,HT_temperature.T,heater_act,HT_level,limiter1.y,dL_rand,Label\n",
      "048_GHL: RT_level_ini,RT_temperature.T,HT_temperature.T,RT_level,out_valve_act,dT_rand,inv_valve_act,limiter.y,inj_valve_act,Relaxing.active,boundary.m_flow_in,dir_valve_act,dt_rand,C_level,C_temperature.T,heater_act,HT_level,limiter1.y,dL_rand,Label\n",
      "051_GHL: RT_level_ini,RT_temperature.T,C_temperature.T,RT_level,out_valve_act,dT_rand,inv_valve_act,limiter.y,inj_valve_act,Relaxing.active,boundary.m_flow_in,dir_valve_act,dt_rand,C_level,HT_temperature.T,heater_act,HT_level,limiter1.y,dL_rand,Label\n",
      "052_GHL: RT_level_ini,RT_temperature.T,C_temperature.T,RT_level,out_valve_act,dT_rand,inv_valve_act,limiter.y,inj_valve_act,Relaxing.active,boundary.m_flow_in,dir_valve_act,dt_rand,C_level,HT_temperature.T,heater_act,HT_level,limiter1.y,dL_rand,Label\n",
      "053_GHL: RT_level_ini,RT_temperature.T,HT_temperature.T,RT_level,out_valve_act,dT_rand,inv_valve_act,limiter.y,inj_valve_act,Relaxing.active,boundary.m_flow_in,dir_valve_act,dt_rand,C_level,C_temperature.T,heater_act,HT_level,limiter1.y,dL_rand,Label\n",
      "054_GHL: RT_level_ini,RT_temperature.T,HT_temperature.T,RT_level,out_valve_act,dT_rand,inv_valve_act,limiter.y,inj_valve_act,Relaxing.active,boundary.m_flow_in,dir_valve_act,dt_rand,C_level,C_temperature.T,heater_act,HT_level,limiter1.y,dL_rand,Label\n",
      "055_GHL: RT_level_ini,RT_temperature.T,HT_temperature.T,RT_level,out_valve_act,dT_rand,inv_valve_act,limiter.y,inj_valve_act,Relaxing.active,boundary.m_flow_in,dir_valve_act,dt_rand,C_level,C_temperature.T,heater_act,HT_level,limiter1.y,dL_rand,Label\n",
      "056_GHL: RT_level_ini,RT_temperature.T,HT_temperature.T,RT_level,out_valve_act,dT_rand,inv_valve_act,limiter.y,inj_valve_act,Relaxing.active,boundary.m_flow_in,dir_valve_act,dt_rand,C_level,C_temperature.T,heater_act,HT_level,limiter1.y,dL_rand,Label\n"
     ]
    }
   ],
   "source": [
    "for file_path in classA_file_paths:\n",
    "    header = extract_header(file_path)\n",
    "    file_name = os.path.basename(file_path)\n",
    "    tokens = file_name.split('_')\n",
    "    ts_name = tokens[0] + '_' + tokens[1]\n",
    "    print(f'{ts_name}: {header}')"
   ]
  },
  {
   "cell_type": "code",
   "execution_count": 29,
   "id": "d237702f",
   "metadata": {},
   "outputs": [
    {
     "name": "stdout",
     "output_type": "stream",
     "text": [
      "034_GHL: RT_level_ini,RT_temperature.T,HT_temperature.T,RT_level,out_valve_act,dT_rand,inv_valve_act,limiter.y,inj_valve_act,Relaxing.active,boundary.m_flow_in,dir_valve_act,dt_rand,C_level,C_temperature.T,heater_act,HT_level,limiter1.y,dL_rand,Label\n",
      "036_GHL: RT_level_ini,RT_temperature.T,C_temperature.T,RT_level,out_valve_act,dT_rand,inv_valve_act,limiter.y,inj_valve_act,Relaxing.active,boundary.m_flow_in,dir_valve_act,dt_rand,C_level,HT_temperature.T,heater_act,HT_level,limiter1.y,dL_rand,Label\n"
     ]
    }
   ],
   "source": [
    "for file_path in classB_file_paths:\n",
    "    header = extract_header(file_path)\n",
    "    file_name = os.path.basename(file_path)\n",
    "    tokens = file_name.split('_')\n",
    "    ts_name = tokens[0] + '_' + tokens[1]\n",
    "    print(f'{ts_name}: {header}')"
   ]
  },
  {
   "cell_type": "code",
   "execution_count": 30,
   "id": "6e45fe2a",
   "metadata": {},
   "outputs": [
    {
     "name": "stdout",
     "output_type": "stream",
     "text": [
      "042_GHL: RT_level_ini,RT_temperature.T,HT_temperature.T,RT_level,out_valve_act,dT_rand,inv_valve_act,limiter.y,inj_valve_act,Relaxing.active,boundary.m_flow_in,dir_valve_act,dt_rand,C_level,C_temperature.T,heater_act,HT_level,limiter1.y,dL_rand,Label\n",
      "046_GHL: RT_level_ini,RT_temperature.T,C_temperature.T,RT_level,out_valve_act,dT_rand,inv_valve_act,limiter.y,inj_valve_act,Relaxing.active,boundary.m_flow_in,dir_valve_act,dt_rand,C_level,HT_temperature.T,heater_act,HT_level,limiter1.y,dL_rand,Label\n",
      "050_GHL: RT_level_ini,RT_temperature.T,C_temperature.T,RT_level,out_valve_act,dT_rand,inv_valve_act,limiter.y,inj_valve_act,Relaxing.active,boundary.m_flow_in,dir_valve_act,dt_rand,C_level,HT_temperature.T,heater_act,HT_level,limiter1.y,dL_rand,Label\n"
     ]
    }
   ],
   "source": [
    "for file_path in classC_file_paths:\n",
    "    header = extract_header(file_path)\n",
    "    file_name = os.path.basename(file_path)\n",
    "    tokens = file_name.split('_')\n",
    "    ts_name = tokens[0] + '_' + tokens[1]\n",
    "    print(f'{ts_name}: {header}')"
   ]
  },
  {
   "cell_type": "code",
   "execution_count": null,
   "id": "ee08eee9",
   "metadata": {},
   "outputs": [],
   "source": []
  }
 ],
 "metadata": {
  "kernelspec": {
   "display_name": "Python 3 (ipykernel)",
   "language": "python",
   "name": "python3"
  },
  "language_info": {
   "codemirror_mode": {
    "name": "ipython",
    "version": 3
   },
   "file_extension": ".py",
   "mimetype": "text/x-python",
   "name": "python",
   "nbconvert_exporter": "python",
   "pygments_lexer": "ipython3",
   "version": "3.11.11"
  }
 },
 "nbformat": 4,
 "nbformat_minor": 5
}
