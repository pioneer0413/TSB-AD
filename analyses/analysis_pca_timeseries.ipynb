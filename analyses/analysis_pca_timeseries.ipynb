{
 "cells": [
  {
   "cell_type": "code",
   "execution_count": null,
   "id": "a987b862",
   "metadata": {},
   "outputs": [],
   "source": [
    "import os\n",
    "import pandas as pd\n",
    "import numpy as np\n",
    "import matplotlib.pyplot as plt"
   ]
  },
  {
   "cell_type": "code",
   "execution_count": null,
   "id": "62815616",
   "metadata": {},
   "outputs": [],
   "source": [
    "file_path = '/home/hwkang/dev-TSB-AD/TSB-AD/Datasets/TSB-AD-M/019_MITDB_id_1_Medical_tr_37500_1st_103211.csv'"
   ]
  },
  {
   "cell_type": "code",
   "execution_count": null,
   "id": "f4e67ee4",
   "metadata": {},
   "outputs": [],
   "source": [
    "def get_anomaly_sequences(file_path, zero_pruning=False):\n",
    "    # Read the CSV file\n",
    "    df = pd.read_csv(file_path)\n",
    "    data = df.iloc[:, :-1].values.astype(float)  # Exclude the last column (label)\n",
    "    label = df['Label'].astype(int).to_numpy() # 0: normal, 1: anomaly\n",
    "\n",
    "    if zero_pruning:\n",
    "        # Remove columns with all zeros\n",
    "        non_zero_columns = np.any(data != 0, axis=0)\n",
    "        data = data[:, non_zero_columns]\n",
    "        \n",
    "    # Find anomaly sequences in the 'label'\n",
    "    anomaly_indices = np.where(label == 1)[0]\n",
    "    #print(f\"Anomaly indices: {anomaly_indices}\")\n",
    "\n",
    "    anomaly_sequences = []\n",
    "    # Determine continuous anomaly sequences\n",
    "    if anomaly_indices.size > 0:\n",
    "        start_idx = anomaly_indices[0]\n",
    "        prev_idx  = start_idx\n",
    "        for idx in anomaly_indices[1:]:\n",
    "            if idx == prev_idx + 1:\n",
    "                prev_idx = idx\n",
    "            else:\n",
    "                anomaly_sequences.append((start_idx, prev_idx))\n",
    "                start_idx = idx\n",
    "                prev_idx  = idx\n",
    "        anomaly_sequences.append((start_idx, prev_idx))\n",
    "\n",
    "    return data, anomaly_sequences"
   ]
  }
 ],
 "metadata": {
  "kernelspec": {
   "display_name": "Python 3 (ipykernel)",
   "language": "python",
   "name": "python3"
  }
 },
 "nbformat": 4,
 "nbformat_minor": 5
}
