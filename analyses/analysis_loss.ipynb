{
 "cells": [
  {
   "cell_type": "code",
   "execution_count": null,
   "id": "cc554dce",
   "metadata": {},
   "outputs": [],
   "source": [
    "%run analyses/imports.py"
   ]
  },
  {
   "cell_type": "markdown",
   "id": "94478ce6",
   "metadata": {},
   "source": [
    "### 손실 추이 분석\n",
    "### TODO\n",
    "- `highlight_<...>_titles`를 N개 받아 각자 다른 색상으로 처리할 수 있도록 수정 (up to v0.1.0)\n",
    "- `plot_losses_overlap`이 `loss_dict`를 받아 처리할 수 있도록 수정 (up to v0.1.0)\n",
    "### 사용 방법\n",
    "- 'TSB-AD/results/loss' 아래 모델 이름으로 손실 추이가 .npy 포맷으로 저장되어 있음\n",
    "- ⭐ `your_root_dir` 경로 지정 필수 (imports.py에서 수행)\n",
    "- `keywords_to_include` 리스트에 디렉터리를 가리키는 키워드 저장\n",
    "- `file_paths`에 해당 디렉터리들의 경로 저장"
   ]
  },
  {
   "cell_type": "markdown",
   "id": "2d160746",
   "metadata": {},
   "source": [
    "##### 참고용 디렉터리 구조\n",
    "```\n",
    "loss/\n",
    "    |- 025_ParallelSNN_receptive_None/ (모델명)\n",
    "        |- 001_Genesis_id_1_Sensor_tr_4055_1st_15538_train.npy (손실 추이, ndarray)\n",
    "        |- ...\n",
    "    |- ...\n",
    "```"
   ]
  },
  {
   "cell_type": "code",
   "execution_count": null,
   "id": "b57d2de2",
   "metadata": {},
   "outputs": [],
   "source": [
    "src_dir_path = f'{your_root_dir}/TSB-AD/results/loss'\n",
    "keywords_to_include = ['025', '026']\n",
    "keywords_to_exclude = []"
   ]
  },
  {
   "cell_type": "code",
   "execution_count": null,
   "id": "274eb2b7",
   "metadata": {},
   "outputs": [],
   "source": [
    "path_loader = PathLoader(src_dir_path, keywords_to_include)"
   ]
  },
  {
   "cell_type": "code",
   "execution_count": null,
   "id": "5d79957a",
   "metadata": {},
   "outputs": [],
   "source": [
    "file_paths = path_loader.get_file_paths()\n",
    "print(len(file_paths))\n",
    "for file_path in file_paths:\n",
    "    print(file_path)"
   ]
  },
  {
   "cell_type": "code",
   "execution_count": null,
   "id": "5af93f4e",
   "metadata": {},
   "outputs": [],
   "source": [
    "def load_train_valid_loss(target_dir_path):\n",
    "    import collections\n",
    "\n",
    "    temp_dict = collections.defaultdict(dict)\n",
    "\n",
    "    for file_name in os.listdir(target_dir_path):\n",
    "        base = file_name.split('.')[0]\n",
    "        key = base.split('_')[0] + '_' + base.split('_')[1]\n",
    "        if base.endswith('train'):\n",
    "            temp_dict[key]['train'] = np.load(os.path.join(target_dir_path, file_name))\n",
    "        elif base.endswith('valid'):\n",
    "            temp_dict[key]['valid'] = np.load(os.path.join(target_dir_path, file_name))\n",
    "\n",
    "    loss_dict = {\n",
    "        key: (values.get('train'), values.get('valid'))\n",
    "        for key, values in temp_dict.items()\n",
    "    }\n",
    "\n",
    "    # sort by key\n",
    "    sorted_loss_dict = dict(sorted(loss_dict.items(), key=lambda item: item[0]))\n",
    "    return sorted_loss_dict"
   ]
  },
  {
   "cell_type": "code",
   "execution_count": null,
   "id": "deb3794e",
   "metadata": {},
   "outputs": [],
   "source": [
    "def plot_all_losses(losses, title, highlight_red_titles=None, highlight_blue_titles=None):\n",
    "    num_ts = len(losses) # 2 or 29 or 180\n",
    "\n",
    "    if num_ts == 2:\n",
    "        fig, axs = plt.subplots(1, 2, figsize=(12, 6))\n",
    "    elif num_ts == 29:\n",
    "        fig, axs = plt.subplots(5, 6, figsize=(18, 12))\n",
    "        axs = axs.flatten()\n",
    "    elif num_ts == 180:\n",
    "        fig, axs = plt.subplots(30, 6, figsize=(18, 54))\n",
    "        axs = axs.flatten()\n",
    "\n",
    "    for idx, (k, v) in enumerate(losses.items()):\n",
    "        ts_name = k\n",
    "        train_loss = v[0]\n",
    "        valid_loss = v[1]\n",
    "\n",
    "        axs[idx].plot(train_loss, label='Train Loss', color='blue')\n",
    "        axs[idx].plot(valid_loss, label='Valid Loss', color='orange')\n",
    "        \n",
    "        if highlight_red_titles is not None or highlight_blue_titles is not None:\n",
    "            f_red = False\n",
    "            f_blue = False\n",
    "            if highlight_blue_titles is not None and ts_name.split('_')[0] in highlight_blue_titles:\n",
    "                f_blue = True\n",
    "            if highlight_red_titles is not None and ts_name.split('_')[0] in highlight_red_titles:\n",
    "                f_red = True\n",
    "            if f_red and f_blue:\n",
    "                title_color = 'purple'\n",
    "            elif f_red:\n",
    "                title_color = 'red'\n",
    "            elif f_blue:\n",
    "                title_color = 'blue'\n",
    "            else:\n",
    "                title_color = 'black'\n",
    "            axs[idx].set_title(ts_name, color=title_color)\n",
    "        else:\n",
    "            axs[idx].set_title(ts_name)\n",
    "\n",
    "    # Off the axes that are not used\n",
    "    for i in range(len(losses), len(axs)):\n",
    "        axs[i].axis('off')\n",
    "\n",
    "    # Set the overall title\n",
    "    plt.suptitle(title, fontsize=16)\n",
    "    plt.tight_layout(rect=[0, 0.03, 1, 0.975])\n",
    "    plt.show()"
   ]
  },
  {
   "cell_type": "code",
   "execution_count": null,
   "id": "e5a535bf",
   "metadata": {},
   "outputs": [],
   "source": [
    "def plot_losses_overlap(losses_list, title=None, highlight_red_titles=None, highlight_blue_titles=None):\n",
    "    num_ts = len(list(losses_list[0][1].items()))\n",
    "\n",
    "    if num_ts == 2:\n",
    "        fig, axs = plt.subplots(1, 2, figsize=(12, 6))\n",
    "    elif num_ts == 29:\n",
    "        fig, axs = plt.subplots(5, 6, figsize=(18, 12))\n",
    "        axs = axs.flatten()\n",
    "    elif num_ts == 180:\n",
    "        fig, axs = plt.subplots(30, 6, figsize=(18, 54))\n",
    "        axs = axs.flatten()\n",
    "\n",
    "    num_model = len(losses_list)\n",
    "    base_colors = sns.color_palette(\"tab10\", n_colors=num_model)\n",
    "    names = []\n",
    "    for model_idx, (name, losses) in enumerate(losses_list):\n",
    "        # 1) base color 추출\n",
    "        r, g, b = base_colors[model_idx]\n",
    "        # 2) HLS 변환\n",
    "        h, l, s = colorsys.rgb_to_hls(r, g, b)\n",
    "        # 3) 채도(boost) → 1.0 초과 금지\n",
    "        s_boost = min(s * 6.0, 1.0)\n",
    "        valid_col = colorsys.hls_to_rgb(h, l, s_boost)\n",
    "        train_col = tuple(np.array(valid_col) * 0.7 + 0.3)\n",
    "        for idx, (k, v) in enumerate(losses.items()):\n",
    "            ts_name = k\n",
    "            train_loss = v[0]\n",
    "            valid_loss = v[1]\n",
    "\n",
    "            axs[idx].plot(train_loss, label='Train Loss', color=train_col, alpha=0.5)\n",
    "            axs[idx].plot(valid_loss, label='Valid Loss', color=valid_col, alpha=0.5, linestyle='-.')\n",
    "\n",
    "            # Set the title color based on the highlight titles\n",
    "            if highlight_red_titles is not None or highlight_blue_titles is not None:\n",
    "                f_red = False\n",
    "                f_blue = False\n",
    "                if highlight_blue_titles is not None and ts_name.split('_')[0] in highlight_blue_titles:\n",
    "                    f_blue = True\n",
    "                if highlight_red_titles is not None and ts_name.split('_')[0] in highlight_red_titles:\n",
    "                    f_red = True\n",
    "                if f_red and f_blue:\n",
    "                    title_color = 'purple'\n",
    "                elif f_red:\n",
    "                    title_color = 'red'\n",
    "                elif f_blue:\n",
    "                    title_color = 'blue'\n",
    "                else:\n",
    "                    title_color = 'black'\n",
    "                axs[idx].set_title(ts_name, color=title_color)\n",
    "            else:\n",
    "                axs[idx].set_title(ts_name)\n",
    "        names.append(name)\n",
    "\n",
    "    # Off the axes that are not used\n",
    "    for i in range(len(losses), len(axs)):\n",
    "        axs[i].axis('off')\n",
    "\n",
    "    \n",
    "    patches = [\n",
    "        mpatches.Patch(color=base_colors[i], label=names[i]) for i in range(num_model)\n",
    "    ]\n",
    "    fig.legend(handles=patches, loc='upper left', ncol=num_model, bbox_to_anchor=(0.025, 0.98))\n",
    "\n",
    "    # Set the overall title\n",
    "    plt.suptitle(title, fontsize=16)\n",
    "    plt.tight_layout(rect=[0, 0.03, 1, 0.98])\n",
    "    plt.show()"
   ]
  },
  {
   "cell_type": "code",
   "execution_count": null,
   "id": "e4da9fc3",
   "metadata": {},
   "outputs": [],
   "source": [
    "loss_dict = {}\n",
    "file_names = path_loader.get_file_names()\n",
    "for f_name, f_path in zip(file_names, file_paths):\n",
    "    loss_dict[f_name] = load_train_valid_loss(f_path)"
   ]
  },
  {
   "cell_type": "code",
   "execution_count": null,
   "id": "46907c3d",
   "metadata": {},
   "outputs": [],
   "source": [
    "for k in loss_dict.keys():\n",
    "    print(k)"
   ]
  },
  {
   "cell_type": "markdown",
   "id": "22dfd633",
   "metadata": {},
   "source": [
    "#### 시각화\n",
    "- `highlight_<...>_titles` 리스트에 문자열로 시계열의 세 자리 ID를 입력하면 해당 손실 추이의 소제목을 강조할 수 있음\n",
    "- `plot_all_losses()` 메서드는 한 모델의 모든 손실 추이를 시각화\n",
    "- `plot_losses_overlap()` 메서드는 모든 모델의 손실 추이를 각 서브플롯에 겹쳐서 시각화"
   ]
  },
  {
   "cell_type": "code",
   "execution_count": null,
   "id": "1df14749",
   "metadata": {},
   "outputs": [],
   "source": [
    "highlight_red_titles = ['065', '073', '078', '115', '130', '144', '173']\n",
    "highlight_blue_titles = ['032', '034', '035', '037', '038', '039', '041', '043', '044', '045', '046', '047', '048', '051', '052', '053', '054', '055']"
   ]
  },
  {
   "cell_type": "code",
   "execution_count": null,
   "id": "b5200262",
   "metadata": {},
   "outputs": [],
   "source": [
    "plot_all_losses(loss_dict['025_ParallelSNN_receptive_None'], title='ParallelSNN with Receptive Encoder', highlight_red_titles=highlight_red_titles, highlight_blue_titles=highlight_blue_titles)"
   ]
  },
  {
   "cell_type": "code",
   "execution_count": null,
   "id": "3cbe6fa8",
   "metadata": {},
   "outputs": [],
   "source": [
    "#plot_losses_overlap(losses_list, title='Comparison by overlapping', highlight_red_titles=highlight_red_titles, highlight_blue_titles=highlight_blue_titles)"
   ]
  }
 ],
 "metadata": {
  "kernelspec": {
   "display_name": "Python 3 (ipykernel)",
   "language": "python",
   "name": "python3"
  },
  "language_info": {
   "codemirror_mode": {
    "name": "ipython",
    "version": 3
   },
   "file_extension": ".py",
   "mimetype": "text/x-python",
   "name": "python",
   "nbconvert_exporter": "python",
   "pygments_lexer": "ipython3",
   "version": "3.11.11"
  }
 },
 "nbformat": 4,
 "nbformat_minor": 5
}
