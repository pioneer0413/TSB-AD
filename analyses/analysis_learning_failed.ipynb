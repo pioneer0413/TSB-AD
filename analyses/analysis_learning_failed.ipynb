{
 "cells": [
  {
   "cell_type": "code",
   "execution_count": 1,
   "id": "c13a1e65",
   "metadata": {},
   "outputs": [],
   "source": [
    "import os"
   ]
  },
  {
   "cell_type": "code",
   "execution_count": 2,
   "id": "fc5f8748",
   "metadata": {},
   "outputs": [],
   "source": [
    "src_dir_path = '/home/hwkang/dev-TSB-AD/TSB-AD/logs'"
   ]
  },
  {
   "cell_type": "code",
   "execution_count": 3,
   "id": "17f43afa",
   "metadata": {},
   "outputs": [],
   "source": [
    "learning_failed = {\n",
    "    '086_SVDB': ['012'],\n",
    "    '096_SVDB': ['013', '016'],\n",
    "    '097_SVDB': ['016', '163', '164', '165'],\n",
    "    '098_SVDB': ['016'],\n",
    "    '099_SVDB': ['016', '166'],\n",
    "    '100_SVDB': ['166'],\n",
    "    '108_SVDB': ['166'],\n",
    "}"
   ]
  },
  {
   "cell_type": "code",
   "execution_count": 4,
   "id": "91ddb4f7",
   "metadata": {},
   "outputs": [],
   "source": [
    "file_names = os.listdir(src_dir_path)"
   ]
  },
  {
   "cell_type": "code",
   "execution_count": 5,
   "id": "da43ebe2",
   "metadata": {},
   "outputs": [
    {
     "name": "stdout",
     "output_type": "stream",
     "text": [
      "[['012'], ['013', '016'], ['016', '163', '164', '165'], ['016'], ['016', '166'], ['166'], ['166']]\n"
     ]
    }
   ],
   "source": [
    "values = list(learning_failed.values())\n",
    "print(values)\n"
   ]
  },
  {
   "cell_type": "code",
   "execution_count": 7,
   "id": "a61cbbef",
   "metadata": {},
   "outputs": [
    {
     "name": "stdout",
     "output_type": "stream",
     "text": [
      "['012', '013', '016', '163', '164', '165', '166']\n"
     ]
    }
   ],
   "source": [
    "empty_set = set()\n",
    "for value in values:\n",
    "    for id_code in value:\n",
    "        empty_set.add(id_code)\n",
    "empty_set = sorted(empty_set)\n",
    "print(empty_set)"
   ]
  },
  {
   "cell_type": "code",
   "execution_count": 9,
   "id": "7831c976",
   "metadata": {},
   "outputs": [
    {
     "name": "stdout",
     "output_type": "stream",
     "text": [
      "012_ParallelSNN_receptive_None.log\n",
      "013_ParallelSNN_conv_None.log\n",
      "016_ParallelSNN_conv_None.log\n",
      "163_ParallelSNN_receptive_kernel3511.log\n",
      "164_ParallelSNN_receptive_kernel1715.log\n",
      "165_ParallelSNN_receptive_kernel357.log\n",
      "166_ParallelSNN_receptive_kernel135.log\n"
     ]
    }
   ],
   "source": [
    "for id_code in empty_set:\n",
    "    #print(id_code)\n",
    "    for file_name in file_names:\n",
    "        if id_code in file_name:\n",
    "            print(file_name)\n",
    "            break\n",
    "    else:\n",
    "        print(f'No file found for ID code: {id_code}')"
   ]
  },
  {
   "cell_type": "code",
   "execution_count": null,
   "id": "5948b141",
   "metadata": {},
   "outputs": [],
   "source": [
    "# 3-5-11, 1-7-15, 1-3-5\n",
    "# 3-5-11, 1-7-15, 3-5-7, 1-3-5\n",
    "\n",
    "# 1-3-5 was the worst\n",
    "\n",
    "# norm_type / grad_spike \n",
    "# bn / X\n",
    "# bn / O\n",
    "# ln / X\n",
    "# ln / O"
   ]
  }
 ],
 "metadata": {
  "kernelspec": {
   "display_name": "Python 3 (ipykernel)",
   "language": "python",
   "name": "python3"
  },
  "language_info": {
   "codemirror_mode": {
    "name": "ipython",
    "version": 3
   },
   "file_extension": ".py",
   "mimetype": "text/x-python",
   "name": "python",
   "nbconvert_exporter": "python",
   "pygments_lexer": "ipython3",
   "version": "3.11.11"
  }
 },
 "nbformat": 4,
 "nbformat_minor": 5
}
