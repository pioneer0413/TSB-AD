{
 "cells": [
  {
   "cell_type": "code",
   "execution_count": 141,
   "id": "267296c9",
   "metadata": {},
   "outputs": [],
   "source": [
    "import matplotlib.pyplot as plt\n",
    "import numpy as np\n",
    "import pandas as pd\n",
    "import os"
   ]
  },
  {
   "cell_type": "code",
   "execution_count": 142,
   "id": "00aa8859",
   "metadata": {},
   "outputs": [],
   "source": [
    "def get_df(file_path):\n",
    "    if not os.path.exists(file_path):\n",
    "        raise FileNotFoundError(f\"File {file_path} does not exist.\")\n",
    "    if not file_path.endswith('.csv'):\n",
    "        raise ValueError(f\"File {file_path} is not a CSV file.\")\n",
    "    try:\n",
    "        df = pd.read_csv(file_path)\n",
    "    except pd.errors.EmptyDataError:\n",
    "        raise ValueError(f\"File {file_path} is empty.\")\n",
    "    except pd.errors.ParserError:\n",
    "        raise ValueError(f\"File {file_path} is corrupted or not a valid CSV.\")\n",
    "    if df.empty:\n",
    "        raise ValueError(f\"DataFrame from {file_path} is empty.\")\n",
    "    return df"
   ]
  },
  {
   "cell_type": "code",
   "execution_count": 143,
   "id": "4050ff6e",
   "metadata": {},
   "outputs": [],
   "source": [
    "# df에서 'file' 열을 기준으로 그룹화\n",
    "def group_by_file(df):\n",
    "    if 'file' not in df.columns:\n",
    "        raise ValueError(\"'file' column is missing in the DataFrame.\")\n",
    "    grouped = df.groupby('file')\n",
    "    return grouped"
   ]
  },
  {
   "cell_type": "code",
   "execution_count": 144,
   "id": "80709604",
   "metadata": {},
   "outputs": [],
   "source": [
    "# group 내에서 각 metric에 대해 최대값을 찾고, 해당하는 row의 'HP' 값을 반환\n",
    "def get_max_hp(group, metric):\n",
    "    if metric not in group.columns:\n",
    "        raise ValueError(f\"'{metric}' column is missing in the group.\")\n",
    "    max_row = group.loc[group[metric].idxmax()]\n",
    "    return max_row['HP']"
   ]
  },
  {
   "cell_type": "code",
   "execution_count": 145,
   "id": "4068ea99",
   "metadata": {},
   "outputs": [],
   "source": [
    "# 위 주석 처리 코드를 함수로 변경\n",
    "def find_max_hp_per_metric(grouped_df, metrics):\n",
    "    max_hps = {}\n",
    "    for metric in metrics:\n",
    "        max_hps[metric] = []\n",
    "        for file_name, group in grouped_df:\n",
    "            try:\n",
    "                max_hp = get_max_hp(group, metric)\n",
    "                max_hps[metric].append(max_hp)\n",
    "                #print(f'{file_name} - {metric}: {max_hp}')\n",
    "            except ValueError as e:\n",
    "                print(f\"Error processing {file_name}: {e}\")\n",
    "\n",
    "    # 가장 중복이 많은 max_hp를 찾기\n",
    "    max_hp_counts = {}\n",
    "    for metric, hps in max_hps.items():\n",
    "        hp_counts = pd.Series(hps).value_counts()\n",
    "        max_hp = hp_counts.idxmax()\n",
    "        count = hp_counts.max()\n",
    "        max_hp_counts[metric] = (max_hp, count)\n",
    "        #print(f\"Metric: {metric}, Max HP: {max_hp}, Count: {count}\")\n",
    "    \n",
    "    return max_hp_counts\n"
   ]
  },
  {
   "cell_type": "code",
   "execution_count": 146,
   "id": "a5b7de9c",
   "metadata": {},
   "outputs": [],
   "source": [
    "metrics = ['AUC-PR','AUC-ROC','VUS-PR','VUS-ROC','Standard-F1','PA-F1','Event-based-F1','R-based-F1','Affiliation-F']"
   ]
  },
  {
   "cell_type": "code",
   "execution_count": 7,
   "id": "3fba2e32",
   "metadata": {},
   "outputs": [],
   "source": [
    "df = get_df('/home/hwkang/dev-TSB-AD/TSB-AD/eval/metrics/multi/SpikeCNN_proposed.csv')\n",
    "grouped_df = group_by_file(df)\n",
    "best_hps = find_max_hp_per_metric(grouped_df, metrics)\n",
    "\n",
    "# best_hps를 반복문으로 돌면서 각 metric에 대해 max_hp와 count를 출력\n",
    "for metric, (max_hp, count) in best_hps.items():\n",
    "    print(f\"Metric: {metric}, Max HP: {max_hp}, Count: {count}\")\n",
    "\n",
    "# best_hps for SpikeCNN_proposed\n",
    "# 1. {'window_size': 100, 'num_channel': [32, 64], 'num_encoded_features': 16}: 4개 지표에서 최다\n",
    "# 2. {'window_size': 50, 'num_channel': [32, 40], 'num_encoded_features': 4}: 4개 지표에서 최다"
   ]
  },
  {
   "cell_type": "code",
   "execution_count": null,
   "id": "570d35dd",
   "metadata": {},
   "outputs": [],
   "source": [
    "df = get_df('/home/hwkang/dev-TSB-AD/TSB-AD/eval/metrics/multi/SpikeCNN_conv.csv')\n",
    "grouped_df = group_by_file(df)\n",
    "best_hps = find_max_hp_per_metric(grouped_df, metrics)\n",
    "\n",
    "# best_hps를 반복문으로 돌면서 각 metric에 대해 max_hp와 count를 출력\n",
    "for metric, (max_hp, count) in best_hps.items():\n",
    "    print(f\"Metric: {metric}, Max HP: {max_hp}, Count: {count}\")\n",
    "\n",
    "# best_hps for SpikeCNN_conv\n",
    "# 1. {'window_size': 50, 'num_channel': [32, 64], 'num_encoded_features': 16}"
   ]
  },
  {
   "cell_type": "code",
   "execution_count": null,
   "id": "e53ee0cf",
   "metadata": {},
   "outputs": [],
   "source": [
    "df = get_df('/home/hwkang/dev-TSB-AD/TSB-AD/eval/metrics/multi/SpikeCNN_delta.csv')\n",
    "grouped_df = group_by_file(df)\n",
    "best_hps = find_max_hp_per_metric(grouped_df, metrics)\n",
    "\n",
    "# best_hps를 반복문으로 돌면서 각 metric에 대해 max_hp와 count를 출력\n",
    "for metric, (max_hp, count) in best_hps.items():\n",
    "    print(f\"Metric: {metric}, Max HP: {max_hp}, Count: {count}\")\n",
    "\n",
    "# best_hps for SpikeCNN_proposed\n",
    "# 1. {'window_size': 100, 'num_channel': [32, 64], 'num_encoded_features': 16}"
   ]
  },
  {
   "cell_type": "code",
   "execution_count": null,
   "id": "2e98ed7c",
   "metadata": {},
   "outputs": [
    {
     "name": "stdout",
     "output_type": "stream",
     "text": [
      "Metric: AUC-PR, Max HP: {'num_enc_features': 4, 'spike_mode': 'TD', 'surrogate_mode': 'atan'}, Count: 3\n",
      "Metric: AUC-ROC, Max HP: {'num_enc_features': 8, 'spike_mode': 'TRB', 'surrogate_mode': 'atan'}, Count: 2\n",
      "Metric: VUS-PR, Max HP: {'num_enc_features': 4, 'spike_mode': 'TD', 'surrogate_mode': 'atan'}, Count: 4\n",
      "Metric: VUS-ROC, Max HP: {'num_enc_features': 4, 'spike_mode': 'TD', 'surrogate_mode': 'atan'}, Count: 2\n",
      "Metric: Standard-F1, Max HP: {'num_enc_features': 4, 'spike_mode': 'GS', 'surrogate_mode': 'fastsig'}, Count: 4\n",
      "Metric: PA-F1, Max HP: {'num_enc_features': 4, 'spike_mode': 'GS', 'surrogate_mode': 'fastsig'}, Count: 8\n",
      "Metric: Event-based-F1, Max HP: {'num_enc_features': 4, 'spike_mode': 'GS', 'surrogate_mode': 'fastsig'}, Count: 7\n",
      "Metric: R-based-F1, Max HP: {'num_enc_features': 4, 'spike_mode': 'GS', 'surrogate_mode': 'fastsig'}, Count: 5\n",
      "Metric: Affiliation-F, Max HP: {'num_enc_features': 4, 'spike_mode': 'GS', 'surrogate_mode': 'fastsig'}, Count: 7\n"
     ]
    }
   ],
   "source": [
    "df = get_df('/home/hwkang/dev-TSB-AD/TSB-AD/eval/tuning/multi/Proposal_tuning_conv.csv')\n",
    "grouped_df = group_by_file(df)\n",
    "best_hps = find_max_hp_per_metric(grouped_df, metrics)\n",
    "\n",
    "# best_hps를 반복문으로 돌면서 각 metric에 대해 max_hp와 count를 출력\n",
    "for metric, (max_hp, count) in best_hps.items():\n",
    "    print(f\"Metric: {metric}, Max HP: {max_hp}, Count: {count}\")\n",
    "\n",
    "# best_hps for Proposal_tuning_conv from VUS-PR\n",
    "# 1. {'num_enc_features': 4, 'spike_mode': 'TD', 'surrogate_mode': 'atan'}"
   ]
  },
  {
   "cell_type": "code",
   "execution_count": null,
   "id": "51c29d32",
   "metadata": {},
   "outputs": [
    {
     "name": "stdout",
     "output_type": "stream",
     "text": [
      "Metric: AUC-PR, Max HP: {'window_size': 50, 'num_channel': [32, 40], 'num_enc_features': 8}, Count: 3\n",
      "Metric: AUC-ROC, Max HP: {'window_size': 150, 'num_channel': [32, 64], 'num_enc_features': 8}, Count: 4\n",
      "Metric: VUS-PR, Max HP: {'window_size': 100, 'num_channel': [32, 40], 'num_enc_features': 16}, Count: 3\n",
      "Metric: VUS-ROC, Max HP: {'window_size': 150, 'num_channel': [32, 40], 'num_enc_features': 16}, Count: 3\n",
      "Metric: Standard-F1, Max HP: {'window_size': 50, 'num_channel': [32, 40], 'num_enc_features': 4}, Count: 5\n",
      "Metric: PA-F1, Max HP: {'window_size': 50, 'num_channel': [32, 40], 'num_enc_features': 4}, Count: 10\n",
      "Metric: Event-based-F1, Max HP: {'window_size': 50, 'num_channel': [32, 40], 'num_enc_features': 4}, Count: 8\n",
      "Metric: R-based-F1, Max HP: {'window_size': 50, 'num_channel': [32, 40], 'num_enc_features': 4}, Count: 4\n",
      "Metric: Affiliation-F, Max HP: {'window_size': 50, 'num_channel': [32, 40], 'num_enc_features': 4}, Count: 7\n"
     ]
    }
   ],
   "source": [
    "df = get_df('/home/hwkang/dev-TSB-AD/TSB-AD/eval/tuning/multi/SpikeCNN_tuning_conv.csv')\n",
    "grouped_df = group_by_file(df)\n",
    "best_hps = find_max_hp_per_metric(grouped_df, metrics)\n",
    "\n",
    "# best_hps를 반복문으로 돌면서 각 metric에 대해 max_hp와 count를 출력\n",
    "for metric, (max_hp, count) in best_hps.items():\n",
    "    print(f\"Metric: {metric}, Max HP: {max_hp}, Count: {count}\")\n",
    "\n",
    "# best_hps for SpikeCNN_tuning_conv from VUS-PR\n",
    "# 1. {'window_size': 100, 'num_channel': [32, 40], 'num_enc_features': 16}"
   ]
  }
 ],
 "metadata": {
  "kernelspec": {
   "display_name": "Python 3 (ipykernel)",
   "language": "python",
   "name": "python3"
  }
 },
 "nbformat": 4,
 "nbformat_minor": 5
}
