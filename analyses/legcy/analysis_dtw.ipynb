{
 "cells": [
  {
   "cell_type": "code",
   "execution_count": null,
   "id": "3969602a",
   "metadata": {},
   "outputs": [],
   "source": [
    "import os\n",
    "import pandas as pd\n",
    "import numpy as np\n",
    "import matplotlib.pyplot as plt\n",
    "from sklearn.decomposition import PCA\n",
    "from sklearn.cluster import KMeans\n",
    "from fastdtw.fastdtw import fastdtw\n",
    "from scipy.spatial.distance import euclidean"
   ]
  },
  {
   "cell_type": "code",
   "execution_count": null,
   "id": "ef81c810",
   "metadata": {},
   "outputs": [],
   "source": [
    "#src_file_path = '/home/hwkang/dev-TSB-AD/TSB-AD/Datasets/TSB-AD-M/137_CreditCard_id_1_Finance_tr_500_1st_541.csv'\n",
    "#src_file_path = '/home/hwkang/dev-TSB-AD/TSB-AD/Datasets/TSB-AD-M/042_GHL_id_11_Sensor_tr_50000_1st_150001.csv'\n",
    "#src_file_path = '/home/hwkang/dev-TSB-AD/TSB-AD/Datasets/TSB-AD-M/074_SMD_id_18_Facility_tr_7174_1st_21230.csv'\n",
    "# pw\n",
    "src_file_paths = [\n",
    "    #'/home/hwkang/dev-TSB-AD/TSB-AD/Datasets/TSB-AD-M/042_GHL_id_11_Sensor_tr_50000_1st_150001.csv',\n",
    "    #'/home/hwkang/dev-TSB-AD/TSB-AD/Datasets/TSB-AD-M/065_SMD_id_9_Facility_tr_737_1st_837.csv',\n",
    "    #'/home/hwkang/dev-TSB-AD/TSB-AD/Datasets/TSB-AD-M/073_SMD_id_17_Facility_tr_5926_1st_10620.csv',\n",
    "    #'/home/hwkang/dev-TSB-AD/TSB-AD/Datasets/TSB-AD-M/078_SMD_id_22_Facility_tr_500_1st_326.csv',\n",
    "    #'/home/hwkang/dev-TSB-AD/TSB-AD/Datasets/TSB-AD-M/115_PSM_id_1_Facility_tr_50000_1st_129872.csv',\n",
    "    #'/home/hwkang/dev-TSB-AD/TSB-AD/Datasets/TSB-AD-M/130_OPPORTUNITY_id_2_HumanActivity_tr_1045_1st_1145.csv',\n",
    "    #'/home/hwkang/dev-TSB-AD/TSB-AD/Datasets/TSB-AD-M/144_SMAP_id_1_Sensor_tr_2052_1st_5300.csv',\n",
    "    '/home/hwkang/dev-TSB-AD/TSB-AD/Datasets/TSB-AD-M/173_GECCO_id_1_Sensor_tr_16165_1st_16265.csv',\n",
    "]\n",
    "dfs = [pd.read_csv(src_file_path) for src_file_path in src_file_paths]\n",
    "datas = [df.iloc[:, :-1].values for df in dfs]\n",
    "#label = df.iloc[:, -1].values"
   ]
  },
  {
   "cell_type": "code",
   "execution_count": null,
   "id": "7a6f2e43",
   "metadata": {},
   "outputs": [],
   "source": [
    "def compute_dtw_matrix(data):\n",
    "    \"\"\"\n",
    "    data: numpy array of shape (T, N) → time x feature\n",
    "    Returns: DTW distance matrix of shape (N, N)\n",
    "    \"\"\"\n",
    "    N = data.shape[1]\n",
    "    distance_matrix = np.zeros((N, N))\n",
    "\n",
    "    print(N, data.shape)\n",
    "    for i in range(N):\n",
    "        for j in range(i + 1, N):\n",
    "            A = data[:, i]\n",
    "            B = data[:, j]\n",
    "            # check if A and B are 1D arrays and numpy arrays\n",
    "            if A.ndim == 1 and B.ndim == 1:\n",
    "                A = A.reshape(-1, 1)\n",
    "                B = B.reshape(-1, 1)\n",
    "            dist, _ = fastdtw(A, B, dist=euclidean)\n",
    "            distance_matrix[i, j] = distance_matrix[j, i] = dist\n",
    "    return distance_matrix"
   ]
  },
  {
   "cell_type": "code",
   "execution_count": null,
   "id": "261fa157",
   "metadata": {},
   "outputs": [],
   "source": [
    "def plot_dtw_heatmap(dtw_matrix, title=\"DTW Distance Heatmap\"):\n",
    "    \"\"\"\n",
    "    dtw_matrix: (N, N) DTW 거리 행렬\n",
    "    \"\"\"\n",
    "    plt.figure(figsize=(8, 6))\n",
    "    plt.imshow(dtw_matrix, interpolation='nearest', cmap='viridis')\n",
    "    plt.title(title)\n",
    "    plt.xlabel(\"Feature Index\")\n",
    "    plt.ylabel(\"Feature Index\")\n",
    "    plt.colorbar(label=\"DTW Distance\")\n",
    "    plt.tight_layout()\n",
    "    plt.show()"
   ]
  },
  {
   "cell_type": "code",
   "execution_count": null,
   "id": "d94457fc",
   "metadata": {},
   "outputs": [],
   "source": [
    "for i, data in enumerate(datas):\n",
    "    print(f\"Processing dataset {i + 1}/{len(datas)}\")\n",
    "    \n",
    "    # Compute DTW distance matrix\n",
    "    dtw_matrix = compute_dtw_matrix(data)\n",
    "    \n",
    "    # Plot DTW distance heatmap\n",
    "    plot_dtw_heatmap(dtw_matrix, title=f\"DTW Distance Heatmap for Dataset {i + 1}\")"
   ]
  }
 ],
 "metadata": {
  "kernelspec": {
   "display_name": "Python 3 (ipykernel)",
   "language": "python",
   "name": "python3"
  }
 },
 "nbformat": 4,
 "nbformat_minor": 5
}
