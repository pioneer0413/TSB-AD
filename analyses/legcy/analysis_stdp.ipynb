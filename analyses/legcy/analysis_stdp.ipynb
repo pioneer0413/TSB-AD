{
 "cells": [
  {
   "cell_type": "code",
   "execution_count": 1,
   "id": "4e9af437",
   "metadata": {},
   "outputs": [],
   "source": [
    "import os\n",
    "import pandas as pd\n",
    "from TSB_AD.snn.params import running_params\n",
    "from TSB_AD.snn.spikingjelly.encoders import HybridEncoder, RepeatEncoder, DynamicReceptiveEncoder\n",
    "import torch\n",
    "import torch.nn as nn\n",
    "import torch.optim as optim\n",
    "import numpy as np\n",
    "from spikingjelly.activation_based.learning import STDPLearner\n",
    "from spikingjelly.activation_based.functional import reset_net\n",
    "import matplotlib.pyplot as plt\n",
    "import time"
   ]
  },
  {
   "cell_type": "markdown",
   "id": "29602ecd",
   "metadata": {},
   "source": [
    "### Data preparation"
   ]
  },
  {
   "cell_type": "code",
   "execution_count": 2,
   "id": "18a41d55",
   "metadata": {},
   "outputs": [],
   "source": [
    "src_dir_path = '/home/hwkang/dev-TSB-AD/TSB-AD/Datasets/TSB-AD-M/'\n",
    "#src_file_path = '032_GHL_id_1_Sensor_tr_50000_1st_65001.csv'\n",
    "#src_file_path = '034_GHL_id_3_Sensor_tr_50000_1st_122001.csv'\n",
    "src_file_path = '051_GHL_id_20_Sensor_tr_50000_1st_75110.csv'\n",
    "src_file_path = os.path.join(src_dir_path, src_file_path)\n",
    "\n",
    "df = pd.read_csv(src_file_path)\n",
    "\n",
    "data = df.iloc[:, :-1].values  # Assuming the first column is an index or timestamp\n",
    "original_data = data.copy()\n",
    "label = df.iloc[:, -1].values  # Assuming the last column is the label\n",
    "\n",
    "length = data.shape[0]\n",
    "features = data.shape[1]\n",
    "\n",
    "# Length slicing\n",
    "running_params['model']['window_size'] = window_size = 4000\n",
    "idx_start = 73000\n",
    "idx_end = idx_start + window_size\n",
    "\n",
    "data = data[idx_start:idx_end, :]\n",
    "label = label[idx_start:idx_end]\n",
    "\n",
    "# Channel slicing\n",
    "single_channel = False\n",
    "if single_channel:\n",
    "    target_channel = 0\n",
    "    data = data[:, target_channel].reshape(-1, 1)\n",
    "\n",
    "# Tensor conversion\n",
    "tensor_data = torch.tensor(data, dtype=torch.float32)"
   ]
  },
  {
   "cell_type": "code",
   "execution_count": 3,
   "id": "62571593",
   "metadata": {},
   "outputs": [
    {
     "name": "stdout",
     "output_type": "stream",
     "text": [
      "Data shape after slicing: torch.Size([4000, 19])\n"
     ]
    }
   ],
   "source": [
    "print(f\"Data shape after slicing: {tensor_data.shape}\")"
   ]
  },
  {
   "cell_type": "markdown",
   "id": "d8c1f897",
   "metadata": {},
   "source": [
    "### Encoder instance"
   ]
  },
  {
   "cell_type": "code",
   "execution_count": 4,
   "id": "138055d1",
   "metadata": {},
   "outputs": [],
   "source": [
    "# Hybrid\n",
    "hybrid_encoder = HybridEncoder(local_running_params=running_params, num_raw_features=1 if single_channel else features)\n",
    "\n",
    "# Repeat\n",
    "repeat_encoder = RepeatEncoder(local_running_params=running_params, output_size=running_params['ParallelSNNModel']['num_enc_features'])\n",
    "\n",
    "# Receptive\n",
    "receptive_encoder = DynamicReceptiveEncoder(local_running_params=running_params, num_raw_features=1 if single_channel else features, num_enc_features=running_params['ParallelSNNModel']['num_enc_features'])"
   ]
  },
  {
   "cell_type": "code",
   "execution_count": 5,
   "id": "ec77a883",
   "metadata": {},
   "outputs": [
    {
     "name": "stdout",
     "output_type": "stream",
     "text": [
      "torch.Size([8, 19, 3])\n"
     ]
    }
   ],
   "source": [
    "print(hybrid_encoder.conv.weight.shape)"
   ]
  },
  {
   "cell_type": "markdown",
   "id": "43f63441",
   "metadata": {},
   "source": [
    "### STDP instance"
   ]
  },
  {
   "cell_type": "code",
   "execution_count": 6,
   "id": "136da211",
   "metadata": {},
   "outputs": [],
   "source": [
    "def f_weight(x):\n",
    "    return torch.clamp(x, -1, 1.)\n",
    "\n",
    "stdp_learners = []\n",
    "s_stdp_learner = STDPLearner(step_mode='m',\n",
    "                           synapse=hybrid_encoder.conv,\n",
    "                           sn=hybrid_encoder.s_psn,\n",
    "                           tau_pre=2., tau_post=100.,\n",
    "                           f_pre=f_weight, f_post=f_weight,)\n",
    "\n",
    "f_stdp_learner = STDPLearner(step_mode='m',\n",
    "                           synapse=hybrid_encoder.conv,\n",
    "                           sn=hybrid_encoder.f_psn,\n",
    "                           tau_pre=2., tau_post=100.,\n",
    "                           f_pre=f_weight, f_post=f_weight,)\n",
    "\n",
    "n_stdp_learner = STDPLearner(step_mode='m',\n",
    "                           synapse=hybrid_encoder.conv,\n",
    "                           sn=hybrid_encoder.n_psn,\n",
    "                           tau_pre=2., tau_post=100.,\n",
    "                           f_pre=f_weight, f_post=f_weight,)\n",
    "stdp_learners = [s_stdp_learner, f_stdp_learner, n_stdp_learner]\n",
    "\n",
    "optimizer_stdp = optim.SGD(hybrid_encoder.parameters(), lr=0.1, momentum=0.)"
   ]
  },
  {
   "cell_type": "code",
   "execution_count": 7,
   "id": "6bfced6c",
   "metadata": {},
   "outputs": [
    {
     "name": "stdout",
     "output_type": "stream",
     "text": [
      "torch.Size([8, 19, 3])\n"
     ]
    }
   ],
   "source": [
    "print(s_stdp_learner.synapse.weight.shape)"
   ]
  },
  {
   "cell_type": "markdown",
   "id": "469af1ac",
   "metadata": {},
   "source": [
    "### STDP Learning"
   ]
  },
  {
   "cell_type": "code",
   "execution_count": 8,
   "id": "d6fc3150",
   "metadata": {},
   "outputs": [],
   "source": [
    "inputs = tensor_data.unsqueeze(0)  # 1, 2000, 1 (B, L, C)\n",
    "\n",
    "hybrid_encoder.train()\n",
    "\n",
    "simulation_steps = 1\n",
    "\n",
    "time_start = time.time()\n",
    "for step in range(simulation_steps):\n",
    "    optimizer_stdp.zero_grad()\n",
    "\n",
    "    post_spks = hybrid_encoder(inputs)\n",
    "\n",
    "    '''\n",
    "    for i in range(len(stdp_learners)):\n",
    "        stdp_learners[i].step(on_grad=True)\n",
    "    optimizer_stdp.step()\n",
    "    '''\n",
    "    \n",
    "    reset_net(hybrid_encoder)\n",
    "    \n",
    "    '''for i in range(len(stdp_learners)):\n",
    "        stdp_learners[i].reset()'''\n",
    "hybrid_time = time.time() - time_start"
   ]
  },
  {
   "cell_type": "code",
   "execution_count": 9,
   "id": "b6b05848",
   "metadata": {},
   "outputs": [
    {
     "data": {
      "text/plain": [
       "torch.Size([1, 4, 8, 4000])"
      ]
     },
     "execution_count": 9,
     "metadata": {},
     "output_type": "execute_result"
    }
   ],
   "source": [
    "post_spks.shape"
   ]
  },
  {
   "cell_type": "code",
   "execution_count": 10,
   "id": "30cc060e",
   "metadata": {},
   "outputs": [],
   "source": [
    "post_spks = post_spks.reshape(-1, window_size)\n",
    "time_start = time.time()\n",
    "repeat_out = repeat_encoder(inputs)\n",
    "repeat_time = time.time() - time_start\n",
    "time_start = time.time()\n",
    "output = receptive_encoder(inputs)\n",
    "receptive_time = time.time() - time_start"
   ]
  },
  {
   "cell_type": "code",
   "execution_count": 11,
   "id": "08c42ee4",
   "metadata": {},
   "outputs": [
    {
     "name": "stdout",
     "output_type": "stream",
     "text": [
      "Hybrid time: 0.0672 s, Repeat time: 0.0240 s, Receptive time: 0.0069 s\n"
     ]
    }
   ],
   "source": [
    "print(f\"Hybrid time: {hybrid_time:.4f} s, Repeat time: {repeat_time:.4f} s, Receptive time: {receptive_time:.4f} s\")"
   ]
  },
  {
   "cell_type": "code",
   "execution_count": 12,
   "id": "65bde448",
   "metadata": {},
   "outputs": [
    {
     "data": {
      "image/png": "[encoded data removed]",
      "text/plain": [
       "<Figure size 1200x1000 with 4 Axes>"
      ]
     },
     "metadata": {},
     "output_type": "display_data"
    }
   ],
   "source": [
    "viz_post_spks = post_spks.sum(0).detach().numpy()\n",
    "viz_repeat_out = repeat_out.reshape(-1, window_size).sum(0).detach().numpy()\n",
    "viz_output = output.squeeze(0).squeeze(0).sum(0).detach().numpy()\n",
    "\n",
    "fig, axes = plt.subplots(4, 1, figsize=(12, 10), sharex=True)\n",
    "if single_channel:\n",
    "    axes[0].plot(original_data[idx_start:idx_end, target_channel], label='Original Channel')\n",
    "else:\n",
    "    for i in range(features):\n",
    "        axes[0].plot(data[:, i], label=f'Channel {i}')\n",
    "for t in range(len(label)):\n",
    "    if label[t] == 1:\n",
    "        axes[0].axvspan(t - 0.5, t + 0.5, color='red', alpha=0.9)\n",
    "axes[1].plot(viz_post_spks)\n",
    "axes[2].plot(viz_repeat_out)\n",
    "axes[3].plot(viz_output)\n",
    "plt.tight_layout()\n",
    "plt.show()"
   ]
  }
 ],
 "metadata": {
  "kernelspec": {
   "display_name": "Python 3 (ipykernel)",
   "language": "python",
   "name": "python3"
  },
  "language_info": {
   "codemirror_mode": {
    "name": "ipython",
    "version": 3
   },
   "file_extension": ".py",
   "mimetype": "text/x-python",
   "name": "python",
   "nbconvert_exporter": "python",
   "pygments_lexer": "ipython3",
   "version": "3.11.11"
  }
 },
 "nbformat": 4,
 "nbformat_minor": 5
}
