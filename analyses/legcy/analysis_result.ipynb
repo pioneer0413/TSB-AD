{
 "cells": [
  {
   "cell_type": "code",
   "execution_count": 69,
   "id": "38380b6f",
   "metadata": {},
   "outputs": [],
   "source": [
    "import os\n",
    "import pandas as pd\n",
    "import numpy as np\n",
    "import matplotlib.pyplot as plt"
   ]
  },
  {
   "cell_type": "code",
   "execution_count": 70,
   "id": "74398f6b",
   "metadata": {},
   "outputs": [],
   "source": [
    "root_dir_path = '/home/hwkang/dev-TSB-AD/TSB-AD/results'\n",
    "postfix = 'dynamic-lnO'"
   ]
  },
  {
   "cell_type": "code",
   "execution_count": 71,
   "id": "7ca11a3d",
   "metadata": {},
   "outputs": [],
   "source": [
    "def get_result_files(min_id_code, max_id_code, postfix, k2ex=['encoding', 'loss', 'spikerate']):\n",
    "    result_file_paths = []\n",
    "    dir_names = os.listdir(root_dir_path)\n",
    "    for dir_name in dir_names:\n",
    "        # if dir_name is in k2ex, continue\n",
    "        if dir_name in k2ex:\n",
    "            continue\n",
    "        file_names = os.listdir(os.path.join(root_dir_path, dir_name))\n",
    "        for file_name in file_names:\n",
    "            id = int(file_name.split('_')[0])\n",
    "            if min_id_code <= id <= max_id_code and postfix in file_name:\n",
    "                result_file_paths.append(os.path.join(root_dir_path, dir_name, file_name))\n",
    "    result_file_paths.sort()\n",
    "    return result_file_paths"
   ]
  },
  {
   "cell_type": "code",
   "execution_count": 72,
   "id": "ec3b9847",
   "metadata": {},
   "outputs": [
    {
     "name": "stdout",
     "output_type": "stream",
     "text": [
      "Processing /home/hwkang/dev-TSB-AD/TSB-AD/results/catsv2/302_ParallelSNN_dynamic_dynamic-lnO.csv\n",
      "Processing /home/hwkang/dev-TSB-AD/TSB-AD/results/daphnet/303_ParallelSNN_dynamic_dynamic-lnO.csv\n",
      "Processing /home/hwkang/dev-TSB-AD/TSB-AD/results/gecco/304_ParallelSNN_dynamic_dynamic-lnO.csv\n",
      "Processing /home/hwkang/dev-TSB-AD/TSB-AD/results/genesis/306_ParallelSNN_dynamic_dynamic-lnO.csv\n",
      "Processing /home/hwkang/dev-TSB-AD/TSB-AD/results/ghl/305_ParallelSNN_dynamic_dynamic-lnO.csv\n",
      "Processing /home/hwkang/dev-TSB-AD/TSB-AD/results/ltdb/307_ParallelSNN_dynamic_dynamic-lnO.csv\n",
      "Processing /home/hwkang/dev-TSB-AD/TSB-AD/results/mitdb/308_ParallelSNN_dynamic_dynamic-lnO.csv\n",
      "Processing /home/hwkang/dev-TSB-AD/TSB-AD/results/msl/309_ParallelSNN_dynamic_dynamic-lnO.csv\n",
      "Total 8 files found.\n"
     ]
    }
   ],
   "source": [
    "result_file_paths = get_result_files(302, 309, postfix)\n",
    "for result_file_path in result_file_paths:\n",
    "    print(f'Processing {result_file_path}')\n",
    "print(f'Total {len(result_file_paths)} files found.')"
   ]
  },
  {
   "cell_type": "code",
   "execution_count": 73,
   "id": "4a1125ad",
   "metadata": {},
   "outputs": [
    {
     "name": "stdout",
     "output_type": "stream",
     "text": [
      "Processing /home/hwkang/dev-TSB-AD/TSB-AD/results/dgx2/085_ParallelSNN_dynamic_dynamic-lnO.csv\n",
      "Processing /home/hwkang/dev-TSB-AD/TSB-AD/results/dgx2/086_ParallelSNN_dynamic_dynamic-lnO.csv\n",
      "Processing /home/hwkang/dev-TSB-AD/TSB-AD/results/dgx2/087_ParallelSNN_dynamic_dynamic-lnO.csv\n",
      "Processing /home/hwkang/dev-TSB-AD/TSB-AD/results/dgx2/088_ParallelSNN_dynamic_dynamic-lnO.csv\n",
      "Processing /home/hwkang/dev-TSB-AD/TSB-AD/results/dgx2/089_ParallelSNN_dynamic_dynamic-lnO.csv\n",
      "Processing /home/hwkang/dev-TSB-AD/TSB-AD/results/dgx2/090_ParallelSNN_dynamic_dynamic-lnO.csv\n",
      "Processing /home/hwkang/dev-TSB-AD/TSB-AD/results/dgx2/091_ParallelSNN_dynamic_dynamic-lnO.csv\n",
      "Processing /home/hwkang/dev-TSB-AD/TSB-AD/results/dgx2/092_ParallelSNN_dynamic_dynamic-lnO.csv\n",
      "Processing /home/hwkang/dev-TSB-AD/TSB-AD/results/dgx2/093_ParallelSNN_dynamic_dynamic-lnO.csv\n",
      "Total 9 files found.\n"
     ]
    }
   ],
   "source": [
    "result_file_paths_dgx2 = get_result_files(85, 93, postfix)\n",
    "for result_file_path in result_file_paths_dgx2:\n",
    "    print(f'Processing {result_file_path}')\n",
    "print(f'Total {len(result_file_paths_dgx2)} files found.')"
   ]
  },
  {
   "cell_type": "code",
   "execution_count": 74,
   "id": "09ba8455",
   "metadata": {},
   "outputs": [
    {
     "name": "stdout",
     "output_type": "stream",
     "text": [
      "Total 17 files after merging.\n"
     ]
    }
   ],
   "source": [
    "result_file_paths = result_file_paths + result_file_paths_dgx2\n",
    "result_file_paths.sort()\n",
    "print(f'Total {len(result_file_paths)} files after merging.')"
   ]
  },
  {
   "cell_type": "code",
   "execution_count": 75,
   "id": "5b3d0614",
   "metadata": {},
   "outputs": [],
   "source": [
    "# merge every records in every result file\n",
    "def merge_records(result_file_paths):\n",
    "    records = []\n",
    "    for result_file_path in result_file_paths:\n",
    "        df = pd.read_csv(result_file_path)\n",
    "        records.append(df)\n",
    "    merged_df = pd.concat(records, ignore_index=True)\n",
    "    # sort by 'file' header\n",
    "    merged_df.sort_values(by='file', inplace=True)\n",
    "    return merged_df"
   ]
  },
  {
   "cell_type": "code",
   "execution_count": 76,
   "id": "1f08b6b8",
   "metadata": {},
   "outputs": [],
   "source": [
    "df = merge_records(result_file_paths)"
   ]
  },
  {
   "cell_type": "code",
   "execution_count": 77,
   "id": "e89161a8",
   "metadata": {},
   "outputs": [],
   "source": [
    "log_dir_path = '/home/hwkang/dev-TSB-AD/TSB-AD/logs'\n",
    "\n",
    "# get last id code from the file name (format is like '299_ParallelSNN_dynamic_dynamic-ln.csv')\n",
    "log_file_names = os.listdir(log_dir_path)\n",
    "# sort descending order\n",
    "log_file_names.sort(reverse=True)\n",
    "last_id_code = int(log_file_names[0].split('_')[0])\n",
    "\n",
    "# assert number of records is exactly equal to 180\n",
    "assert len(df) == 180, f'Expected 180 records, but got {len(df)} records.'\n",
    "\n",
    "latest_id_code = last_id_code + 1\n",
    "# create dummy log file with latest_id_code in log_dir_path\n",
    "dummy_log_file_path = os.path.join(log_dir_path, f'{latest_id_code}_ParallelSNN_dynamic_dynamic-ln.log')\n",
    "with open(dummy_log_file_path, 'w') as f:\n",
    "    f.write('This is a dummy log file for the latest id code.\\n')\n",
    "    f.write(f'Latest id code: {latest_id_code}\\n')\n",
    "\n",
    "# save df to \n",
    "target_tokens = result_file_paths[0].split('/')[-1].split('_')[1:]\n",
    "target_file_name = '_'.join(target_tokens)\n",
    "#print(f'Target file name: {target_file_name}')\n",
    "dst_file_path = os.path.join('/home/hwkang/dev-TSB-AD/TSB-AD/results/full', f'{latest_id_code}_{target_file_name}')\n",
    "#print(f'Saving merged records to {dst_file_path}')\n",
    "\n",
    "df.to_csv(dst_file_path, index=False)"
   ]
  }
 ],
 "metadata": {
  "kernelspec": {
   "display_name": "Python 3 (ipykernel)",
   "language": "python",
   "name": "python3"
  }
 },
 "nbformat": 4,
 "nbformat_minor": 5
}
