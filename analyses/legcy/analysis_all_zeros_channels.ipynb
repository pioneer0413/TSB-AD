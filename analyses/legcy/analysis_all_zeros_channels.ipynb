{
 "cells": [
  {
   "cell_type": "markdown",
   "id": "2ed19ce5",
   "metadata": {},
   "source": [
    "0으로만 구성된 채널이 있는 시계열과 그 갯수를 출력"
   ]
  },
  {
   "cell_type": "code",
   "execution_count": 1,
   "id": "0b99eba8",
   "metadata": {},
   "outputs": [],
   "source": [
    "import os\n",
    "import pandas as pd\n",
    "import numpy as np"
   ]
  },
  {
   "cell_type": "code",
   "execution_count": 2,
   "id": "2073de22",
   "metadata": {},
   "outputs": [],
   "source": [
    "src_dir_path = '/home/hwkang/dev-TSB-AD/TSB-AD/Datasets/TSB-AD-M'\n",
    "src_file_path = '/home/hwkang/dev-TSB-AD/TSB-AD/Datasets/File_List/TSB-AD-M-Mini-Eva.csv'"
   ]
  },
  {
   "cell_type": "code",
   "execution_count": 3,
   "id": "593f557a",
   "metadata": {},
   "outputs": [],
   "source": [
    "df = pd.read_csv(src_file_path)\n",
    "file_names = df['file_name'].tolist()\n",
    "file_paths = [os.path.join(src_dir_path, file_name) for file_name in file_names]"
   ]
  },
  {
   "cell_type": "code",
   "execution_count": 8,
   "id": "79640087",
   "metadata": {},
   "outputs": [
    {
     "name": "stdout",
     "output_type": "stream",
     "text": [
      "014_MSL_id_13_Sensor_tr_1525_1st_4575.csv zero columns: 30 / 55\n",
      "017_MSL_id_16_Sensor_tr_512_1st_1850.csv zero columns: 39 / 55\n",
      "025_MITDB_id_7_Medical_tr_37500_1st_88864.csv zero columns: 0 / 2\n",
      "065_SMD_id_9_Facility_tr_737_1st_837.csv zero columns: 4 / 38\n",
      "074_SMD_id_18_Facility_tr_7174_1st_21230.csv zero columns: 8 / 38\n",
      "079_LTDB_id_1_Medical_tr_3618_1st_3718.csv zero columns: 0 / 2\n",
      "087_SVDB_id_4_Medical_tr_5421_1st_5521.csv zero columns: 0 / 2\n",
      "092_SVDB_id_9_Medical_tr_2674_1st_2774.csv zero columns: 0 / 2\n",
      "093_SVDB_id_10_Medical_tr_500_1st_37.csv zero columns: 0 / 2\n",
      "097_SVDB_id_14_Medical_tr_1031_1st_1131.csv zero columns: 0 / 2\n",
      "099_SVDB_id_16_Medical_tr_1115_1st_1215.csv zero columns: 0 / 2\n",
      "101_SVDB_id_18_Medical_tr_1851_1st_1951.csv zero columns: 0 / 2\n",
      "105_SVDB_id_22_Medical_tr_500_1st_417.csv zero columns: 0 / 2\n",
      "108_SVDB_id_25_Medical_tr_1238_1st_1338.csv zero columns: 0 / 2\n",
      "111_SVDB_id_28_Medical_tr_1791_1st_1891.csv zero columns: 0 / 2\n",
      "133_OPPORTUNITY_id_5_HumanActivity_tr_1745_1st_6500.csv zero columns: 16 / 248\n",
      "158_SMAP_id_15_Sensor_tr_2075_1st_5610.csv zero columns: 1 / 25\n",
      "159_SMAP_id_16_Sensor_tr_1757_1st_2650.csv zero columns: 24 / 25\n",
      "162_SMAP_id_19_Sensor_tr_1908_1st_4690.csv zero columns: 22 / 25\n",
      "166_SMAP_id_23_Sensor_tr_1113_1st_1890.csv zero columns: 24 / 25\n",
      "167_SMAP_id_24_Sensor_tr_2094_1st_5600.csv zero columns: 1 / 25\n",
      "168_SMAP_id_25_Sensor_tr_1998_1st_2098.csv zero columns: 14 / 25\n",
      "172_SWaT_id_2_Sensor_tr_23700_1st_23800.csv zero columns: 0 / 51\n"
     ]
    }
   ],
   "source": [
    "for file_path in file_paths:\n",
    "    df = pd.read_csv(file_path)\n",
    "    data = df.iloc[:, 0:-1].values.astype(float)\n",
    "    non_zero_columns = np.any(data != 0, axis=0)\n",
    "    num_zero_columns = data.shape[1] - np.sum(non_zero_columns)\n",
    "    file_name = os.path.basename(file_path)\n",
    "    print(f'{file_name} zero columns: {num_zero_columns} / {data.shape[1]}')"
   ]
  }
 ],
 "metadata": {
  "kernelspec": {
   "display_name": "Python 3 (ipykernel)",
   "language": "python",
   "name": "python3"
  }
 },
 "nbformat": 4,
 "nbformat_minor": 5
}
