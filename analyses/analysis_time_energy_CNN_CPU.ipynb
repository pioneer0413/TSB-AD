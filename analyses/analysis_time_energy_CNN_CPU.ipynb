{
 "cells": [
  {
   "cell_type": "code",
   "execution_count": 1,
   "metadata": {},
   "outputs": [],
   "source": [
    "# 필요한 라이브러리 임포트\n",
    "import pandas as pd\n",
    "import matplotlib.pyplot as plt"
   ]
  },
  {
   "cell_type": "code",
   "execution_count": 2,
   "metadata": {},
   "outputs": [],
   "source": [
    "# Jupyter Notebook 내에서 그래프를 인라인으로 출력하도록 설정\n",
    "%matplotlib inline"
   ]
  },
  {
   "cell_type": "code",
   "execution_count": 3,
   "metadata": {},
   "outputs": [],
   "source": [
    "# CSV 파일 읽기\n",
    "file_path = 'eval/time_energy/multi/CNN_CPU.csv'\n",
    "df = pd.read_csv(file_path)"
   ]
  },
  {
   "cell_type": "code",
   "execution_count": 4,
   "metadata": {},
   "outputs": [],
   "source": [
    "# 음수값 개수 확인\n",
    "print(\"음수값 개수:\")\n",
    "print(\"train_energy:\", (df['train_energy'] < 0).sum())\n",
    "print(\"test_energy:\", (df['test_energy'] < 0).sum())\n",
    "\n",
    "# 전체 데이터 중 음수값의 비율 확인\n",
    "print(\"\\n음수값 비율 (%):\")\n",
    "print(\"train_energy: {:.2f}%\".format((df['train_energy'] < 0).mean() * 100))\n",
    "print(\"test_energy: {:.2f}%\".format((df['test_energy'] < 0).mean() * 100))"
   ]
  },
  {
   "cell_type": "code",
   "execution_count": 5,
   "metadata": {},
   "outputs": [],
   "source": [
    "# ...existing code...\n",
    "\n",
    "# train_energy와 test_energy 컬럼의 음수값을 0으로 변환\n",
    "df['train_energy'] = df['train_energy'].clip(lower=0)\n",
    "df['test_energy'] = df['test_energy'].clip(lower=0)"
   ]
  },
  {
   "cell_type": "code",
   "execution_count": 6,
   "metadata": {},
   "outputs": [],
   "source": [
    "\n",
    "# 데이터의 상위 몇 줄을 출력하여 내용 확인\n",
    "print(\"데이터셋의 처음 5행:\")\n",
    "display(df.head())\n"
   ]
  },
  {
   "cell_type": "code",
   "execution_count": 7,
   "metadata": {},
   "outputs": [],
   "source": [
    "\n",
    "# 숫자형 변수에 대한 기본 통계량 출력\n",
    "print(\"숫자형 변수의 통계량:\")\n",
    "display(df.describe())\n"
   ]
  },
  {
   "cell_type": "code",
   "execution_count": 8,
   "metadata": {},
   "outputs": [],
   "source": [
    "# DataFrame으로 변환 후 각 열의 총합 계산\n",
    "column_sums = df.sum(numeric_only=True)\n",
    "\n",
    "print(\"\\n=== Total Time & Energy Usage ===\")\n",
    "print(f\"Total Runtime: {column_sums['runtime']:.2f} seconds\")\n",
    "print(f\"Total Training Time: {column_sums['train_time']:.2f} seconds\")\n",
    "print(f\"Total Test Time: {column_sums['test_time']:.2f} seconds\")\n",
    "if 'train_energy' in column_sums:\n",
    "    print(f\"Total Training Energy: {column_sums['train_energy']:.2f} Joules\")\n",
    "if 'test_energy' in column_sums:\n",
    "    print(f\"Total Test Energy: {column_sums['test_energy']:.2f} Joules\")"
   ]
  },
  {
   "cell_type": "code",
   "execution_count": 9,
   "metadata": {},
   "outputs": [],
   "source": [
    "\n",
    "# 숫자형 열 목록\n",
    "numerical_cols = ['runtime', 'train_time', 'test_time', 'train_energy', 'test_energy']\n",
    "\n",
    "# 각 숫자형 열에 대한 히스토그램 그리기\n",
    "for col in numerical_cols:\n",
    "    plt.figure(figsize=(8, 4))\n",
    "    plt.hist(df[col].dropna(), bins=20, edgecolor='black')\n",
    "    plt.title(f'{col} Distribution')\n",
    "    plt.xlabel(col)\n",
    "    plt.ylabel('Frequency')\n",
    "    plt.show()\n",
    "\n",
    "# 각 숫자형 열에 대한 박스플롯 그리기 (이상치 파악에 유용)\n",
    "for col in numerical_cols:\n",
    "    plt.figure(figsize=(8, 4))\n",
    "    plt.boxplot(df[col].dropna(), vert=False)\n",
    "    plt.title(f'{col} Boxplot')\n",
    "    plt.xlabel(col)\n",
    "    plt.show()\n",
    "\n",
    "# 범주형 변수인 'file' 열의 값 분포를 막대그래프로 표시\n",
    "plt.figure(figsize=(10, 5))\n",
    "df['file'].value_counts().plot(kind='bar')\n",
    "plt.title('File Count Distribution')\n",
    "plt.xlabel('File')\n",
    "plt.ylabel('Count')\n",
    "plt.show()"
   ]
  }
 ],
 "metadata": {
  "kernelspec": {
   "display_name": "Python 3 (ipykernel)",
   "language": "python",
   "name": "python3"
  }
 },
 "nbformat": 4,
 "nbformat_minor": 2
}
