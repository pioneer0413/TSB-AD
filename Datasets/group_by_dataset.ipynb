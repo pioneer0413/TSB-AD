{
 "cells": [
  {
   "cell_type": "code",
   "execution_count": 11,
   "id": "6fdaa8de",
   "metadata": {},
   "outputs": [],
   "source": [
    "import pandas as pd\n",
    "import os"
   ]
  },
  {
   "cell_type": "code",
   "execution_count": 12,
   "id": "a595bd42",
   "metadata": {},
   "outputs": [],
   "source": [
    "src_file_path = '/home/hwkang/dev-TSB-AD/TSB-AD/Datasets/File_List/TSB-AD-M-Eva.csv'"
   ]
  },
  {
   "cell_type": "code",
   "execution_count": 13,
   "id": "6743d455",
   "metadata": {},
   "outputs": [],
   "source": [
    "df = pd.read_csv(src_file_path)"
   ]
  },
  {
   "cell_type": "code",
   "execution_count": 14,
   "id": "561c9209",
   "metadata": {},
   "outputs": [],
   "source": [
    "file_names = df['file_name'].tolist()\n",
    "file_names.sort()"
   ]
  },
  {
   "cell_type": "code",
   "execution_count": 15,
   "id": "fddbe0e2",
   "metadata": {},
   "outputs": [],
   "source": [
    "dst_dir_path = '/home/hwkang/dev-TSB-AD/TSB-AD/Datasets/File_List'\n",
    "root_result_dir_path = '/home/hwkang/dev-TSB-AD/TSB-AD/results'\n",
    "\n",
    "for file_name in file_names:\n",
    "    base_file_name_pre = 'TSB-AD-M-'\n",
    "    base_file_name_post = '-Eva.csv'\n",
    "    dataset_name = file_name.split('.')[0].split('_')[1]\n",
    "\n",
    "    target_file_name = base_file_name_pre + dataset_name + base_file_name_post\n",
    "\n",
    "    dst_file_path = os.path.join(dst_dir_path, target_file_name)\n",
    "\n",
    "    \n",
    "    '''# if not dst_file_path not exists, open with 'w' mode\n",
    "    if not os.path.exists(dst_file_path):\n",
    "        with open(dst_file_path, 'w') as f:\n",
    "            # add 'file_name' as the first line\n",
    "            f.write('file_name\\n')\n",
    "            f.write(file_name + '\\n')\n",
    "    else:\n",
    "        with open(dst_file_path, 'a') as f:\n",
    "            # add 'file_name' as the first line\n",
    "            f.write(file_name + '\\n')'''\n",
    "    \n",
    "    # create result directory if not exists\n",
    "    # lower case dataset name\n",
    "    dataset_name = dataset_name.lower()\n",
    "    result_dir_path = os.path.join(root_result_dir_path, dataset_name)\n",
    "    if not os.path.exists(result_dir_path):\n",
    "        os.makedirs(result_dir_path)"
   ]
  }
 ],
 "metadata": {
  "kernelspec": {
   "display_name": "Python 3 (ipykernel)",
   "language": "python",
   "name": "python3"
  }
 },
 "nbformat": 4,
 "nbformat_minor": 5
}
