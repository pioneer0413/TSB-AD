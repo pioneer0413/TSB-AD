{
 "cells": [
  {
   "cell_type": "code",
   "execution_count": 19,
   "id": "fe39c917",
   "metadata": {},
   "outputs": [],
   "source": [
    "candidate_params = {\n",
    "    'dropout': [False, True],\n",
    "    'encoding_kernel': ['3n3n3', '5n11n5'],\n",
    "    'tt': [False, True],\n",
    "    'delta_abs': [False, True],\n",
    "    'grad_spike': [False, True],\n",
    "}"
   ]
  },
  {
   "cell_type": "code",
   "execution_count": 20,
   "id": "357b9313",
   "metadata": {},
   "outputs": [],
   "source": [
    "# generate all combinations of parameters\n",
    "from itertools import product\n",
    "def generate_combinations(params):\n",
    "    keys = params.keys()\n",
    "    values = params.values()\n",
    "    combinations = [dict(zip(keys, v)) for v in product(*values)]\n",
    "    return combinations\n",
    "\n",
    "combinations = generate_combinations(candidate_params)"
   ]
  },
  {
   "cell_type": "code",
   "execution_count": 32,
   "id": "2c80305e",
   "metadata": {},
   "outputs": [
    {
     "name": "stdout",
     "output_type": "stream",
     "text": [
      "python benchmark_exp/Run_Detector_M.py --AD_Name ParallelSNN --Encoder_Name receptive --encoding_kernel 3n3n3 --postfix dtF-el3-ttF-dsF-geF --skip\n",
      "python benchmark_exp/Run_Detector_M.py --AD_Name ParallelSNN --Encoder_Name receptive --encoding_kernel 3n3n3 --grad_spike --postfix dtF-el3-ttF-dsF-geT --skip\n",
      "python benchmark_exp/Run_Detector_M.py --AD_Name ParallelSNN --Encoder_Name receptive --encoding_kernel 3n3n3 --delta_abs --postfix dtF-el3-ttF-dsT-geF --skip\n",
      "python benchmark_exp/Run_Detector_M.py --AD_Name ParallelSNN --Encoder_Name receptive --encoding_kernel 3n3n3 --delta_abs --grad_spike --postfix dtF-el3-ttF-dsT-geT --skip\n",
      "python benchmark_exp/Run_Detector_M.py --AD_Name ParallelSNN --Encoder_Name receptive --encoding_kernel 3n3n3 --tt --postfix dtF-el3-ttT-dsF-geF --skip\n",
      "python benchmark_exp/Run_Detector_M.py --AD_Name ParallelSNN --Encoder_Name receptive --encoding_kernel 3n3n3 --tt --grad_spike --postfix dtF-el3-ttT-dsF-geT --skip\n",
      "python benchmark_exp/Run_Detector_M.py --AD_Name ParallelSNN --Encoder_Name receptive --encoding_kernel 3n3n3 --tt --delta_abs --postfix dtF-el3-ttT-dsT-geF --skip\n",
      "python benchmark_exp/Run_Detector_M.py --AD_Name ParallelSNN --Encoder_Name receptive --encoding_kernel 3n3n3 --tt --delta_abs --grad_spike --postfix dtF-el3-ttT-dsT-geT --skip\n",
      "python benchmark_exp/Run_Detector_M.py --AD_Name ParallelSNN --Encoder_Name receptive --encoding_kernel 5n11n5 --postfix dtF-el5-ttF-dsF-geF --skip\n",
      "python benchmark_exp/Run_Detector_M.py --AD_Name ParallelSNN --Encoder_Name receptive --encoding_kernel 5n11n5 --grad_spike --postfix dtF-el5-ttF-dsF-geT --skip\n",
      "python benchmark_exp/Run_Detector_M.py --AD_Name ParallelSNN --Encoder_Name receptive --encoding_kernel 5n11n5 --delta_abs --postfix dtF-el5-ttF-dsT-geF --skip\n",
      "python benchmark_exp/Run_Detector_M.py --AD_Name ParallelSNN --Encoder_Name receptive --encoding_kernel 5n11n5 --delta_abs --grad_spike --postfix dtF-el5-ttF-dsT-geT --skip\n",
      "python benchmark_exp/Run_Detector_M.py --AD_Name ParallelSNN --Encoder_Name receptive --encoding_kernel 5n11n5 --tt --postfix dtF-el5-ttT-dsF-geF --skip\n",
      "python benchmark_exp/Run_Detector_M.py --AD_Name ParallelSNN --Encoder_Name receptive --encoding_kernel 5n11n5 --tt --grad_spike --postfix dtF-el5-ttT-dsF-geT --skip\n",
      "python benchmark_exp/Run_Detector_M.py --AD_Name ParallelSNN --Encoder_Name receptive --encoding_kernel 5n11n5 --tt --delta_abs --postfix dtF-el5-ttT-dsT-geF --skip\n",
      "python benchmark_exp/Run_Detector_M.py --AD_Name ParallelSNN --Encoder_Name receptive --encoding_kernel 5n11n5 --tt --delta_abs --grad_spike --postfix dtF-el5-ttT-dsT-geT --skip\n",
      "python benchmark_exp/Run_Detector_M.py --AD_Name ParallelSNN --Encoder_Name receptive --dropout --encoding_kernel 3n3n3 --postfix dtT-el3-ttF-dsF-geF --skip\n",
      "python benchmark_exp/Run_Detector_M.py --AD_Name ParallelSNN --Encoder_Name receptive --dropout --encoding_kernel 3n3n3 --grad_spike --postfix dtT-el3-ttF-dsF-geT --skip\n",
      "python benchmark_exp/Run_Detector_M.py --AD_Name ParallelSNN --Encoder_Name receptive --dropout --encoding_kernel 3n3n3 --delta_abs --postfix dtT-el3-ttF-dsT-geF --skip\n",
      "python benchmark_exp/Run_Detector_M.py --AD_Name ParallelSNN --Encoder_Name receptive --dropout --encoding_kernel 3n3n3 --delta_abs --grad_spike --postfix dtT-el3-ttF-dsT-geT --skip\n",
      "python benchmark_exp/Run_Detector_M.py --AD_Name ParallelSNN --Encoder_Name receptive --dropout --encoding_kernel 3n3n3 --tt --postfix dtT-el3-ttT-dsF-geF --skip\n",
      "python benchmark_exp/Run_Detector_M.py --AD_Name ParallelSNN --Encoder_Name receptive --dropout --encoding_kernel 3n3n3 --tt --grad_spike --postfix dtT-el3-ttT-dsF-geT --skip\n",
      "python benchmark_exp/Run_Detector_M.py --AD_Name ParallelSNN --Encoder_Name receptive --dropout --encoding_kernel 3n3n3 --tt --delta_abs --postfix dtT-el3-ttT-dsT-geF --skip\n",
      "python benchmark_exp/Run_Detector_M.py --AD_Name ParallelSNN --Encoder_Name receptive --dropout --encoding_kernel 3n3n3 --tt --delta_abs --grad_spike --postfix dtT-el3-ttT-dsT-geT --skip\n",
      "python benchmark_exp/Run_Detector_M.py --AD_Name ParallelSNN --Encoder_Name receptive --dropout --encoding_kernel 5n11n5 --postfix dtT-el5-ttF-dsF-geF --skip\n",
      "python benchmark_exp/Run_Detector_M.py --AD_Name ParallelSNN --Encoder_Name receptive --dropout --encoding_kernel 5n11n5 --grad_spike --postfix dtT-el5-ttF-dsF-geT --skip\n",
      "python benchmark_exp/Run_Detector_M.py --AD_Name ParallelSNN --Encoder_Name receptive --dropout --encoding_kernel 5n11n5 --delta_abs --postfix dtT-el5-ttF-dsT-geF --skip\n",
      "python benchmark_exp/Run_Detector_M.py --AD_Name ParallelSNN --Encoder_Name receptive --dropout --encoding_kernel 5n11n5 --delta_abs --grad_spike --postfix dtT-el5-ttF-dsT-geT --skip\n",
      "python benchmark_exp/Run_Detector_M.py --AD_Name ParallelSNN --Encoder_Name receptive --dropout --encoding_kernel 5n11n5 --tt --postfix dtT-el5-ttT-dsF-geF --skip\n",
      "python benchmark_exp/Run_Detector_M.py --AD_Name ParallelSNN --Encoder_Name receptive --dropout --encoding_kernel 5n11n5 --tt --grad_spike --postfix dtT-el5-ttT-dsF-geT --skip\n",
      "python benchmark_exp/Run_Detector_M.py --AD_Name ParallelSNN --Encoder_Name receptive --dropout --encoding_kernel 5n11n5 --tt --delta_abs --postfix dtT-el5-ttT-dsT-geF --skip\n",
      "python benchmark_exp/Run_Detector_M.py --AD_Name ParallelSNN --Encoder_Name receptive --dropout --encoding_kernel 5n11n5 --tt --delta_abs --grad_spike --postfix dtT-el5-ttT-dsT-geT --skip\n"
     ]
    }
   ],
   "source": [
    "for i, params in enumerate(combinations):\n",
    "    script = 'python benchmark_exp/Run_Detector_M.py --AD_Name ParallelSNN --Encoder_Name receptive'\n",
    "    #print(f\"Combination {i + 1}:\")\n",
    "    postfix = f''\n",
    "    for key, value in params.items():\n",
    "        #print(f\"  {key}: {value}\")\n",
    "        if value:\n",
    "            if key == 'encoding_kernel':\n",
    "                script += f' --{key} {value}'\n",
    "            else:\n",
    "                script += f' --{key}'\n",
    "        k = key[0]+key[-1]\n",
    "        #v = str(value).upper()[0] if isinstance(value, bool) else str(value)\n",
    "        v = str(value)\n",
    "        postfix += f'{k}{v[0]}-'\n",
    "    postfix = postfix.rstrip('-')  # Remove trailing dash\n",
    "    script += f' --postfix {postfix} --skip'\n",
    "    print(script)"
   ]
  }
 ],
 "metadata": {
  "kernelspec": {
   "display_name": "Python 3 (ipykernel)",
   "language": "python",
   "name": "python3"
  }
 },
 "nbformat": 4,
 "nbformat_minor": 5
}
